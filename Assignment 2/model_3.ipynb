{
 "cells": [
  {
   "cell_type": "code",
   "execution_count": 79,
   "metadata": {
    "collapsed": true,
    "ExecuteTime": {
     "end_time": "2023-10-13T15:05:09.908165200Z",
     "start_time": "2023-10-13T15:05:09.880242600Z"
    }
   },
   "outputs": [],
   "source": [
    "import pandas as pd\n",
    "import  numpy as np\n",
    "from sklearn.metrics import confusion_matrix\n",
    "import category_encoders as ce\n",
    "from sklearn import preprocessing\n",
    "from  sklearn.ensemble import RandomForestClassifier,GradientBoostingClassifier,StackingClassifier,VotingClassifier\n",
    "import xgboost as xgb\n",
    "from catboost import CatBoostClassifier\n",
    "from sklearn.preprocessing import LabelEncoder,StandardScaler\n",
    "from sklearn.metrics import f1_score\n",
    "import matplotlib.pyplot as plt\n",
    "from sklearn.model_selection import StratifiedKFold,GridSearchCV\n",
    "from sklearn.preprocessing import MinMaxScaler\n",
    "import warnings\n",
    "warnings.simplefilter(action='ignore', category=FutureWarning)\n",
    "\n",
    "import seaborn as sns"
   ]
  },
  {
   "cell_type": "code",
   "execution_count": 80,
   "outputs": [],
   "source": [
    "Train_data =pd.read_csv(\"Data/traindata.csv\")\n",
    "X_test=pd.read_csv(\"Data/testdata.csv\")"
   ],
   "metadata": {
    "collapsed": false,
    "ExecuteTime": {
     "end_time": "2023-10-13T15:05:10.295219700Z",
     "start_time": "2023-10-13T15:05:10.138432Z"
    }
   }
  },
  {
   "cell_type": "code",
   "execution_count": 81,
   "outputs": [
    {
     "data": {
      "text/plain": "   ID  duration protocol_type service flag  src_bytes  dst_bytes  land  \\\n0   0         0           tcp    http   SF        295       2584     0   \n1   1         0           tcp    http   SF        312        839     0   \n2   2         0           tcp     ftp   SF       1225       2451     0   \n3   3         0           tcp    http   SF        293        296     0   \n4   4         0           tcp     X11  REJ          0          0     0   \n\n   wrong_fragment  urgent  ...  dst_host_same_srv_rate  \\\n0               0       0  ...                    1.00   \n1               0       0  ...                    1.00   \n2               0       0  ...                    0.45   \n3               0       0  ...                    1.00   \n4               0       0  ...                    0.01   \n\n   dst_host_diff_srv_rate  dst_host_same_src_port_rate  \\\n0                    0.00                         0.01   \n1                    0.00                         0.00   \n2                    0.02                         0.00   \n3                    0.00                         0.00   \n4                    0.03                         0.01   \n\n   dst_host_srv_diff_host_rate  dst_host_serror_rate  \\\n0                         0.03                   0.0   \n1                         0.02                   0.0   \n2                         0.00                   0.0   \n3                         0.02                   0.0   \n4                         0.00                   0.0   \n\n   dst_host_srv_serror_rate  dst_host_rerror_rate  dst_host_srv_rerror_rate  \\\n0                       0.0                  0.00                      0.01   \n1                       0.0                  0.01                      0.01   \n2                       0.0                  0.00                      0.00   \n3                       0.0                  0.00                      0.02   \n4                       0.0                  0.01                      1.00   \n\n   level  Class  \n0     21      0  \n1     21      0  \n2     11      1  \n3     21      0  \n4     11      0  \n\n[5 rows x 44 columns]",
      "text/html": "<div>\n<style scoped>\n    .dataframe tbody tr th:only-of-type {\n        vertical-align: middle;\n    }\n\n    .dataframe tbody tr th {\n        vertical-align: top;\n    }\n\n    .dataframe thead th {\n        text-align: right;\n    }\n</style>\n<table border=\"1\" class=\"dataframe\">\n  <thead>\n    <tr style=\"text-align: right;\">\n      <th></th>\n      <th>ID</th>\n      <th>duration</th>\n      <th>protocol_type</th>\n      <th>service</th>\n      <th>flag</th>\n      <th>src_bytes</th>\n      <th>dst_bytes</th>\n      <th>land</th>\n      <th>wrong_fragment</th>\n      <th>urgent</th>\n      <th>...</th>\n      <th>dst_host_same_srv_rate</th>\n      <th>dst_host_diff_srv_rate</th>\n      <th>dst_host_same_src_port_rate</th>\n      <th>dst_host_srv_diff_host_rate</th>\n      <th>dst_host_serror_rate</th>\n      <th>dst_host_srv_serror_rate</th>\n      <th>dst_host_rerror_rate</th>\n      <th>dst_host_srv_rerror_rate</th>\n      <th>level</th>\n      <th>Class</th>\n    </tr>\n  </thead>\n  <tbody>\n    <tr>\n      <th>0</th>\n      <td>0</td>\n      <td>0</td>\n      <td>tcp</td>\n      <td>http</td>\n      <td>SF</td>\n      <td>295</td>\n      <td>2584</td>\n      <td>0</td>\n      <td>0</td>\n      <td>0</td>\n      <td>...</td>\n      <td>1.00</td>\n      <td>0.00</td>\n      <td>0.01</td>\n      <td>0.03</td>\n      <td>0.0</td>\n      <td>0.0</td>\n      <td>0.00</td>\n      <td>0.01</td>\n      <td>21</td>\n      <td>0</td>\n    </tr>\n    <tr>\n      <th>1</th>\n      <td>1</td>\n      <td>0</td>\n      <td>tcp</td>\n      <td>http</td>\n      <td>SF</td>\n      <td>312</td>\n      <td>839</td>\n      <td>0</td>\n      <td>0</td>\n      <td>0</td>\n      <td>...</td>\n      <td>1.00</td>\n      <td>0.00</td>\n      <td>0.00</td>\n      <td>0.02</td>\n      <td>0.0</td>\n      <td>0.0</td>\n      <td>0.01</td>\n      <td>0.01</td>\n      <td>21</td>\n      <td>0</td>\n    </tr>\n    <tr>\n      <th>2</th>\n      <td>2</td>\n      <td>0</td>\n      <td>tcp</td>\n      <td>ftp</td>\n      <td>SF</td>\n      <td>1225</td>\n      <td>2451</td>\n      <td>0</td>\n      <td>0</td>\n      <td>0</td>\n      <td>...</td>\n      <td>0.45</td>\n      <td>0.02</td>\n      <td>0.00</td>\n      <td>0.00</td>\n      <td>0.0</td>\n      <td>0.0</td>\n      <td>0.00</td>\n      <td>0.00</td>\n      <td>11</td>\n      <td>1</td>\n    </tr>\n    <tr>\n      <th>3</th>\n      <td>3</td>\n      <td>0</td>\n      <td>tcp</td>\n      <td>http</td>\n      <td>SF</td>\n      <td>293</td>\n      <td>296</td>\n      <td>0</td>\n      <td>0</td>\n      <td>0</td>\n      <td>...</td>\n      <td>1.00</td>\n      <td>0.00</td>\n      <td>0.00</td>\n      <td>0.02</td>\n      <td>0.0</td>\n      <td>0.0</td>\n      <td>0.00</td>\n      <td>0.02</td>\n      <td>21</td>\n      <td>0</td>\n    </tr>\n    <tr>\n      <th>4</th>\n      <td>4</td>\n      <td>0</td>\n      <td>tcp</td>\n      <td>X11</td>\n      <td>REJ</td>\n      <td>0</td>\n      <td>0</td>\n      <td>0</td>\n      <td>0</td>\n      <td>0</td>\n      <td>...</td>\n      <td>0.01</td>\n      <td>0.03</td>\n      <td>0.01</td>\n      <td>0.00</td>\n      <td>0.0</td>\n      <td>0.0</td>\n      <td>0.01</td>\n      <td>1.00</td>\n      <td>11</td>\n      <td>0</td>\n    </tr>\n  </tbody>\n</table>\n<p>5 rows × 44 columns</p>\n</div>"
     },
     "execution_count": 81,
     "metadata": {},
     "output_type": "execute_result"
    }
   ],
   "source": [
    "Train_data.head(5)"
   ],
   "metadata": {
    "collapsed": false,
    "ExecuteTime": {
     "end_time": "2023-10-13T15:05:10.392343400Z",
     "start_time": "2023-10-13T15:05:10.374008700Z"
    }
   }
  },
  {
   "cell_type": "code",
   "execution_count": 82,
   "outputs": [
    {
     "data": {
      "text/plain": "(23002, 44)"
     },
     "execution_count": 82,
     "metadata": {},
     "output_type": "execute_result"
    }
   ],
   "source": [
    "Train_data.shape"
   ],
   "metadata": {
    "collapsed": false,
    "ExecuteTime": {
     "end_time": "2023-10-13T15:05:10.595937900Z",
     "start_time": "2023-10-13T15:05:10.571970Z"
    }
   }
  },
  {
   "cell_type": "code",
   "execution_count": 83,
   "outputs": [
    {
     "name": "stdout",
     "output_type": "stream",
     "text": [
      "<class 'pandas.core.frame.DataFrame'>\n",
      "RangeIndex: 23002 entries, 0 to 23001\n",
      "Data columns (total 44 columns):\n",
      " #   Column                       Non-Null Count  Dtype  \n",
      "---  ------                       --------------  -----  \n",
      " 0   ID                           23002 non-null  int64  \n",
      " 1   duration                     23002 non-null  int64  \n",
      " 2   protocol_type                23002 non-null  object \n",
      " 3   service                      23002 non-null  object \n",
      " 4   flag                         23002 non-null  object \n",
      " 5   src_bytes                    23002 non-null  int64  \n",
      " 6   dst_bytes                    23002 non-null  int64  \n",
      " 7   land                         23002 non-null  int64  \n",
      " 8   wrong_fragment               23002 non-null  int64  \n",
      " 9   urgent                       23002 non-null  int64  \n",
      " 10  hot                          23002 non-null  int64  \n",
      " 11  num_failed_logins            23002 non-null  int64  \n",
      " 12  logged_in                    23002 non-null  int64  \n",
      " 13  num_compromised              23002 non-null  int64  \n",
      " 14  root_shell                   23002 non-null  int64  \n",
      " 15  su_attempted                 23002 non-null  int64  \n",
      " 16  num_root                     23002 non-null  int64  \n",
      " 17  num_file_creations           23002 non-null  int64  \n",
      " 18  num_shells                   23002 non-null  int64  \n",
      " 19  num_access_files             23002 non-null  int64  \n",
      " 20  num_outbound_cmds            23002 non-null  int64  \n",
      " 21  is_host_login                23002 non-null  int64  \n",
      " 22  is_guest_login               23002 non-null  int64  \n",
      " 23  count                        23002 non-null  int64  \n",
      " 24  srv_count                    23002 non-null  int64  \n",
      " 25  serror_rate                  23002 non-null  float64\n",
      " 26  srv_serror_rate              23002 non-null  float64\n",
      " 27  rerror_rate                  23002 non-null  float64\n",
      " 28  srv_rerror_rate              23002 non-null  float64\n",
      " 29  same_srv_rate                23002 non-null  float64\n",
      " 30  diff_srv_rate                23002 non-null  float64\n",
      " 31  srv_diff_host_rate           23002 non-null  float64\n",
      " 32  dst_host_count               23002 non-null  int64  \n",
      " 33  dst_host_srv_count           23002 non-null  int64  \n",
      " 34  dst_host_same_srv_rate       23002 non-null  float64\n",
      " 35  dst_host_diff_srv_rate       23002 non-null  float64\n",
      " 36  dst_host_same_src_port_rate  23002 non-null  float64\n",
      " 37  dst_host_srv_diff_host_rate  23002 non-null  float64\n",
      " 38  dst_host_serror_rate         23002 non-null  float64\n",
      " 39  dst_host_srv_serror_rate     23002 non-null  float64\n",
      " 40  dst_host_rerror_rate         23002 non-null  float64\n",
      " 41  dst_host_srv_rerror_rate     23002 non-null  float64\n",
      " 42  level                        23002 non-null  int64  \n",
      " 43  Class                        23002 non-null  int64  \n",
      "dtypes: float64(15), int64(26), object(3)\n",
      "memory usage: 7.7+ MB\n"
     ]
    }
   ],
   "source": [
    "Train_data.info()"
   ],
   "metadata": {
    "collapsed": false,
    "ExecuteTime": {
     "end_time": "2023-10-13T15:05:10.805073400Z",
     "start_time": "2023-10-13T15:05:10.777957400Z"
    }
   }
  },
  {
   "cell_type": "code",
   "execution_count": 84,
   "outputs": [
    {
     "data": {
      "text/plain": "0"
     },
     "execution_count": 84,
     "metadata": {},
     "output_type": "execute_result"
    }
   ],
   "source": [
    "Train_data.duplicated().sum()"
   ],
   "metadata": {
    "collapsed": false,
    "ExecuteTime": {
     "end_time": "2023-10-13T15:05:11.023770Z",
     "start_time": "2023-10-13T15:05:10.977960100Z"
    }
   }
  },
  {
   "cell_type": "code",
   "execution_count": 85,
   "outputs": [
    {
     "data": {
      "text/plain": "Class\n0    12001\n1    11001\nName: count, dtype: int64"
     },
     "execution_count": 85,
     "metadata": {},
     "output_type": "execute_result"
    }
   ],
   "source": [
    "Train_data[\"Class\"].value_counts()"
   ],
   "metadata": {
    "collapsed": false,
    "ExecuteTime": {
     "end_time": "2023-10-13T15:05:11.227301500Z",
     "start_time": "2023-10-13T15:05:11.188571500Z"
    }
   }
  },
  {
   "cell_type": "markdown",
   "source": [
    "# Check the columns that has the same values for all rows"
   ],
   "metadata": {
    "collapsed": false
   }
  },
  {
   "cell_type": "code",
   "execution_count": 86,
   "outputs": [
    {
     "name": "stdout",
     "output_type": "stream",
     "text": [
      "Values in 'ID' are not the same.\n",
      "Values in 'duration' are not the same.\n",
      "Values in 'src_bytes' are not the same.\n",
      "Values in 'dst_bytes' are not the same.\n",
      "Values in 'land' are not the same.\n",
      "Values in 'wrong_fragment' are not the same.\n",
      "Values in 'urgent' are not the same.\n",
      "Values in 'hot' are not the same.\n",
      "Values in 'num_failed_logins' are not the same.\n",
      "Values in 'logged_in' are not the same.\n",
      "Values in 'num_compromised' are not the same.\n",
      "Values in 'root_shell' are not the same.\n",
      "Values in 'su_attempted' are not the same.\n",
      "Values in 'num_root' are not the same.\n",
      "Values in 'num_file_creations' are not the same.\n",
      "Values in 'num_shells' are not the same.\n",
      "Values in 'num_access_files' are not the same.\n",
      "All values in 'num_outbound_cmds' are the same.\n",
      "All values in 'is_host_login' are the same.\n",
      "Values in 'is_guest_login' are not the same.\n",
      "Values in 'count' are not the same.\n",
      "Values in 'srv_count' are not the same.\n",
      "Values in 'serror_rate' are not the same.\n",
      "Values in 'srv_serror_rate' are not the same.\n",
      "Values in 'rerror_rate' are not the same.\n",
      "Values in 'srv_rerror_rate' are not the same.\n",
      "Values in 'same_srv_rate' are not the same.\n",
      "Values in 'diff_srv_rate' are not the same.\n",
      "Values in 'srv_diff_host_rate' are not the same.\n",
      "Values in 'dst_host_count' are not the same.\n",
      "Values in 'dst_host_srv_count' are not the same.\n",
      "Values in 'dst_host_same_srv_rate' are not the same.\n",
      "Values in 'dst_host_diff_srv_rate' are not the same.\n",
      "Values in 'dst_host_same_src_port_rate' are not the same.\n",
      "Values in 'dst_host_srv_diff_host_rate' are not the same.\n",
      "Values in 'dst_host_serror_rate' are not the same.\n",
      "Values in 'dst_host_srv_serror_rate' are not the same.\n",
      "Values in 'dst_host_rerror_rate' are not the same.\n",
      "Values in 'dst_host_srv_rerror_rate' are not the same.\n",
      "Values in 'level' are not the same.\n",
      "Values in 'Class' are not the same.\n"
     ]
    }
   ],
   "source": [
    "for column in Train_data.select_dtypes(include=['number']):\n",
    "    variance = Train_data[column].var()\n",
    "    if variance == 0:\n",
    "        print(f\"All values in '{column}' are the same.\")\n",
    "    else:\n",
    "        print(f\"Values in '{column}' are not the same.\")"
   ],
   "metadata": {
    "collapsed": false,
    "ExecuteTime": {
     "end_time": "2023-10-13T15:05:11.612857200Z",
     "start_time": "2023-10-13T15:05:11.588740500Z"
    }
   }
  },
  {
   "cell_type": "code",
   "execution_count": 87,
   "outputs": [
    {
     "data": {
      "text/plain": "num_outbound_cmds\n0    23002\nName: count, dtype: int64"
     },
     "execution_count": 87,
     "metadata": {},
     "output_type": "execute_result"
    }
   ],
   "source": [
    "Train_data[\"num_outbound_cmds\"].value_counts()"
   ],
   "metadata": {
    "collapsed": false,
    "ExecuteTime": {
     "end_time": "2023-10-13T15:05:11.828830Z",
     "start_time": "2023-10-13T15:05:11.809880900Z"
    }
   }
  },
  {
   "cell_type": "code",
   "execution_count": 88,
   "outputs": [
    {
     "data": {
      "text/plain": "is_host_login\n0    23002\nName: count, dtype: int64"
     },
     "execution_count": 88,
     "metadata": {},
     "output_type": "execute_result"
    }
   ],
   "source": [
    "Train_data[\"is_host_login\"].value_counts()"
   ],
   "metadata": {
    "collapsed": false,
    "ExecuteTime": {
     "end_time": "2023-10-13T15:05:12.048715900Z",
     "start_time": "2023-10-13T15:05:12.009820100Z"
    }
   }
  },
  {
   "cell_type": "markdown",
   "source": [
    "# Drop the columns that not changed for all rows"
   ],
   "metadata": {
    "collapsed": false
   }
  },
  {
   "cell_type": "code",
   "execution_count": 89,
   "outputs": [],
   "source": [
    "Train_data.drop(columns=['num_outbound_cmds', 'ID',\"is_host_login\"],inplace=True)"
   ],
   "metadata": {
    "collapsed": false,
    "ExecuteTime": {
     "end_time": "2023-10-13T15:05:12.461693800Z",
     "start_time": "2023-10-13T15:05:12.444683300Z"
    }
   }
  },
  {
   "cell_type": "code",
   "execution_count": 90,
   "outputs": [],
   "source": [
    "X_test.drop(columns=['num_outbound_cmds', 'ID',\"is_host_login\"],inplace=True)"
   ],
   "metadata": {
    "collapsed": false,
    "ExecuteTime": {
     "end_time": "2023-10-13T15:05:12.683753600Z",
     "start_time": "2023-10-13T15:05:12.657803400Z"
    }
   }
  },
  {
   "cell_type": "code",
   "execution_count": 91,
   "outputs": [
    {
     "data": {
      "text/plain": "           duration     src_bytes     dst_bytes          land  wrong_fragment  \\\ncount  23002.000000  2.300200e+04  2.300200e+04  23002.000000    23002.000000   \nmean     307.196896  2.588955e+04  3.588139e+03      0.000087        0.024259   \nstd     2697.345784  2.522555e+06  9.231127e+04      0.009324        0.262794   \nmin        0.000000  0.000000e+00  0.000000e+00      0.000000        0.000000   \n25%        0.000000  0.000000e+00  0.000000e+00      0.000000        0.000000   \n50%        0.000000  4.400000e+01  0.000000e+00      0.000000        0.000000   \n75%        0.000000  2.747500e+02  4.860000e+02      0.000000        0.000000   \nmax    42862.000000  3.817091e+08  5.151385e+06      1.000000        3.000000   \n\n             urgent           hot  num_failed_logins     logged_in  \\\ncount  23002.000000  23002.000000       23002.000000  23002.000000   \nmean       0.000043      0.199113           0.001174      0.386532   \nstd        0.006594      2.167079           0.046141      0.486965   \nmin        0.000000      0.000000           0.000000      0.000000   \n25%        0.000000      0.000000           0.000000      0.000000   \n50%        0.000000      0.000000           0.000000      0.000000   \n75%        0.000000      0.000000           0.000000      1.000000   \nmax        1.000000     77.000000           4.000000      1.000000   \n\n       num_compromised  ...  dst_host_same_srv_rate  dst_host_diff_srv_rate  \\\ncount     23002.000000  ...            23002.000000            23002.000000   \nmean          0.231241  ...                0.511856                0.084503   \nstd          10.778668  ...                0.448993                0.189916   \nmin           0.000000  ...                0.000000                0.000000   \n25%           0.000000  ...                0.050000                0.000000   \n50%           0.000000  ...                0.460000                0.030000   \n75%           0.000000  ...                1.000000                0.070000   \nmax         884.000000  ...                1.000000                1.000000   \n\n       dst_host_same_src_port_rate  dst_host_srv_diff_host_rate  \\\ncount                 23002.000000                 23002.000000   \nmean                      0.147974                     0.031739   \nstd                       0.309429                     0.111354   \nmin                       0.000000                     0.000000   \n25%                       0.000000                     0.000000   \n50%                       0.000000                     0.000000   \n75%                       0.060000                     0.010000   \nmax                       1.000000                     1.000000   \n\n       dst_host_serror_rate  dst_host_srv_serror_rate  dst_host_rerror_rate  \\\ncount          23002.000000              23002.000000          23002.000000   \nmean               0.293264                  0.287243              0.119363   \nstd                0.448771                  0.449637              0.307603   \nmin                0.000000                  0.000000              0.000000   \n25%                0.000000                  0.000000              0.000000   \n50%                0.000000                  0.000000              0.000000   \n75%                1.000000                  1.000000              0.000000   \nmax                1.000000                  1.000000              1.000000   \n\n       dst_host_srv_rerror_rate         level         Class  \ncount              23002.000000  23002.000000  23002.000000  \nmean                   0.120072     19.467220      0.478263  \nstd                    0.319011      2.331899      0.499538  \nmin                    0.000000      0.000000      0.000000  \n25%                    0.000000     18.000000      0.000000  \n50%                    0.000000     20.000000      0.000000  \n75%                    0.000000     21.000000      1.000000  \nmax                    1.000000     21.000000      1.000000  \n\n[8 rows x 38 columns]",
      "text/html": "<div>\n<style scoped>\n    .dataframe tbody tr th:only-of-type {\n        vertical-align: middle;\n    }\n\n    .dataframe tbody tr th {\n        vertical-align: top;\n    }\n\n    .dataframe thead th {\n        text-align: right;\n    }\n</style>\n<table border=\"1\" class=\"dataframe\">\n  <thead>\n    <tr style=\"text-align: right;\">\n      <th></th>\n      <th>duration</th>\n      <th>src_bytes</th>\n      <th>dst_bytes</th>\n      <th>land</th>\n      <th>wrong_fragment</th>\n      <th>urgent</th>\n      <th>hot</th>\n      <th>num_failed_logins</th>\n      <th>logged_in</th>\n      <th>num_compromised</th>\n      <th>...</th>\n      <th>dst_host_same_srv_rate</th>\n      <th>dst_host_diff_srv_rate</th>\n      <th>dst_host_same_src_port_rate</th>\n      <th>dst_host_srv_diff_host_rate</th>\n      <th>dst_host_serror_rate</th>\n      <th>dst_host_srv_serror_rate</th>\n      <th>dst_host_rerror_rate</th>\n      <th>dst_host_srv_rerror_rate</th>\n      <th>level</th>\n      <th>Class</th>\n    </tr>\n  </thead>\n  <tbody>\n    <tr>\n      <th>count</th>\n      <td>23002.000000</td>\n      <td>2.300200e+04</td>\n      <td>2.300200e+04</td>\n      <td>23002.000000</td>\n      <td>23002.000000</td>\n      <td>23002.000000</td>\n      <td>23002.000000</td>\n      <td>23002.000000</td>\n      <td>23002.000000</td>\n      <td>23002.000000</td>\n      <td>...</td>\n      <td>23002.000000</td>\n      <td>23002.000000</td>\n      <td>23002.000000</td>\n      <td>23002.000000</td>\n      <td>23002.000000</td>\n      <td>23002.000000</td>\n      <td>23002.000000</td>\n      <td>23002.000000</td>\n      <td>23002.000000</td>\n      <td>23002.000000</td>\n    </tr>\n    <tr>\n      <th>mean</th>\n      <td>307.196896</td>\n      <td>2.588955e+04</td>\n      <td>3.588139e+03</td>\n      <td>0.000087</td>\n      <td>0.024259</td>\n      <td>0.000043</td>\n      <td>0.199113</td>\n      <td>0.001174</td>\n      <td>0.386532</td>\n      <td>0.231241</td>\n      <td>...</td>\n      <td>0.511856</td>\n      <td>0.084503</td>\n      <td>0.147974</td>\n      <td>0.031739</td>\n      <td>0.293264</td>\n      <td>0.287243</td>\n      <td>0.119363</td>\n      <td>0.120072</td>\n      <td>19.467220</td>\n      <td>0.478263</td>\n    </tr>\n    <tr>\n      <th>std</th>\n      <td>2697.345784</td>\n      <td>2.522555e+06</td>\n      <td>9.231127e+04</td>\n      <td>0.009324</td>\n      <td>0.262794</td>\n      <td>0.006594</td>\n      <td>2.167079</td>\n      <td>0.046141</td>\n      <td>0.486965</td>\n      <td>10.778668</td>\n      <td>...</td>\n      <td>0.448993</td>\n      <td>0.189916</td>\n      <td>0.309429</td>\n      <td>0.111354</td>\n      <td>0.448771</td>\n      <td>0.449637</td>\n      <td>0.307603</td>\n      <td>0.319011</td>\n      <td>2.331899</td>\n      <td>0.499538</td>\n    </tr>\n    <tr>\n      <th>min</th>\n      <td>0.000000</td>\n      <td>0.000000e+00</td>\n      <td>0.000000e+00</td>\n      <td>0.000000</td>\n      <td>0.000000</td>\n      <td>0.000000</td>\n      <td>0.000000</td>\n      <td>0.000000</td>\n      <td>0.000000</td>\n      <td>0.000000</td>\n      <td>...</td>\n      <td>0.000000</td>\n      <td>0.000000</td>\n      <td>0.000000</td>\n      <td>0.000000</td>\n      <td>0.000000</td>\n      <td>0.000000</td>\n      <td>0.000000</td>\n      <td>0.000000</td>\n      <td>0.000000</td>\n      <td>0.000000</td>\n    </tr>\n    <tr>\n      <th>25%</th>\n      <td>0.000000</td>\n      <td>0.000000e+00</td>\n      <td>0.000000e+00</td>\n      <td>0.000000</td>\n      <td>0.000000</td>\n      <td>0.000000</td>\n      <td>0.000000</td>\n      <td>0.000000</td>\n      <td>0.000000</td>\n      <td>0.000000</td>\n      <td>...</td>\n      <td>0.050000</td>\n      <td>0.000000</td>\n      <td>0.000000</td>\n      <td>0.000000</td>\n      <td>0.000000</td>\n      <td>0.000000</td>\n      <td>0.000000</td>\n      <td>0.000000</td>\n      <td>18.000000</td>\n      <td>0.000000</td>\n    </tr>\n    <tr>\n      <th>50%</th>\n      <td>0.000000</td>\n      <td>4.400000e+01</td>\n      <td>0.000000e+00</td>\n      <td>0.000000</td>\n      <td>0.000000</td>\n      <td>0.000000</td>\n      <td>0.000000</td>\n      <td>0.000000</td>\n      <td>0.000000</td>\n      <td>0.000000</td>\n      <td>...</td>\n      <td>0.460000</td>\n      <td>0.030000</td>\n      <td>0.000000</td>\n      <td>0.000000</td>\n      <td>0.000000</td>\n      <td>0.000000</td>\n      <td>0.000000</td>\n      <td>0.000000</td>\n      <td>20.000000</td>\n      <td>0.000000</td>\n    </tr>\n    <tr>\n      <th>75%</th>\n      <td>0.000000</td>\n      <td>2.747500e+02</td>\n      <td>4.860000e+02</td>\n      <td>0.000000</td>\n      <td>0.000000</td>\n      <td>0.000000</td>\n      <td>0.000000</td>\n      <td>0.000000</td>\n      <td>1.000000</td>\n      <td>0.000000</td>\n      <td>...</td>\n      <td>1.000000</td>\n      <td>0.070000</td>\n      <td>0.060000</td>\n      <td>0.010000</td>\n      <td>1.000000</td>\n      <td>1.000000</td>\n      <td>0.000000</td>\n      <td>0.000000</td>\n      <td>21.000000</td>\n      <td>1.000000</td>\n    </tr>\n    <tr>\n      <th>max</th>\n      <td>42862.000000</td>\n      <td>3.817091e+08</td>\n      <td>5.151385e+06</td>\n      <td>1.000000</td>\n      <td>3.000000</td>\n      <td>1.000000</td>\n      <td>77.000000</td>\n      <td>4.000000</td>\n      <td>1.000000</td>\n      <td>884.000000</td>\n      <td>...</td>\n      <td>1.000000</td>\n      <td>1.000000</td>\n      <td>1.000000</td>\n      <td>1.000000</td>\n      <td>1.000000</td>\n      <td>1.000000</td>\n      <td>1.000000</td>\n      <td>1.000000</td>\n      <td>21.000000</td>\n      <td>1.000000</td>\n    </tr>\n  </tbody>\n</table>\n<p>8 rows × 38 columns</p>\n</div>"
     },
     "execution_count": 91,
     "metadata": {},
     "output_type": "execute_result"
    }
   ],
   "source": [
    "Train_data.describe()"
   ],
   "metadata": {
    "collapsed": false,
    "ExecuteTime": {
     "end_time": "2023-10-13T15:05:12.951805800Z",
     "start_time": "2023-10-13T15:05:12.867376900Z"
    }
   }
  },
  {
   "cell_type": "code",
   "execution_count": 92,
   "outputs": [
    {
     "data": {
      "text/plain": "Class\n0    12001\n1    11001\nName: count, dtype: int64"
     },
     "execution_count": 92,
     "metadata": {},
     "output_type": "execute_result"
    }
   ],
   "source": [
    "Train_data[\"Class\"].value_counts()"
   ],
   "metadata": {
    "collapsed": false,
    "ExecuteTime": {
     "end_time": "2023-10-13T15:05:13.166370800Z",
     "start_time": "2023-10-13T15:05:13.099535900Z"
    }
   }
  },
  {
   "cell_type": "markdown",
   "source": [
    "# Label Encoding"
   ],
   "metadata": {
    "collapsed": false
   }
  },
  {
   "cell_type": "code",
   "execution_count": 93,
   "outputs": [],
   "source": [
    "encoder_protocol_type = preprocessing.LabelEncoder()\n",
    "\n",
    "Train_data['protocol_type']= encoder_protocol_type.fit_transform(Train_data['protocol_type'])\n",
    "X_test['protocol_type']= encoder_protocol_type.transform(X_test['protocol_type'])\n",
    "\n"
   ],
   "metadata": {
    "collapsed": false,
    "ExecuteTime": {
     "end_time": "2023-10-13T15:05:13.623631100Z",
     "start_time": "2023-10-13T15:05:13.596176900Z"
    }
   }
  },
  {
   "cell_type": "code",
   "execution_count": 94,
   "outputs": [],
   "source": [
    "X_test.drop(columns=['service'],inplace=True)\n",
    "Train_data.drop(columns=['service'],inplace=True)"
   ],
   "metadata": {
    "collapsed": false,
    "ExecuteTime": {
     "end_time": "2023-10-13T15:05:13.896448900Z",
     "start_time": "2023-10-13T15:05:13.867503400Z"
    }
   }
  },
  {
   "cell_type": "code",
   "execution_count": 95,
   "outputs": [],
   "source": [
    "\n",
    "encoder_flag = preprocessing.LabelEncoder()\n",
    "# Encode labels in column 'species'.\n",
    "Train_data['flag']= encoder_flag.fit_transform(Train_data['flag'])\n",
    "X_test['flag']= encoder_flag.transform(X_test['flag'])\n",
    "\n"
   ],
   "metadata": {
    "collapsed": false,
    "ExecuteTime": {
     "end_time": "2023-10-13T15:05:14.124913Z",
     "start_time": "2023-10-13T15:05:14.094328800Z"
    }
   }
  },
  {
   "cell_type": "code",
   "execution_count": 96,
   "outputs": [],
   "source": [
    "x_train = Train_data.drop(columns=['Class'])\n",
    "y_train = Train_data['Class']"
   ],
   "metadata": {
    "collapsed": false,
    "ExecuteTime": {
     "end_time": "2023-10-13T15:05:14.383611400Z",
     "start_time": "2023-10-13T15:05:14.354661600Z"
    }
   }
  },
  {
   "cell_type": "markdown",
   "source": [
    "# appply RandomForestClassifier"
   ],
   "metadata": {
    "collapsed": false
   }
  },
  {
   "cell_type": "code",
   "execution_count": 97,
   "outputs": [],
   "source": [
    "model = RandomForestClassifier(min_samples_leaf= 37\n",
    "                              ,max_depth=15, n_estimators=380, random_state=42,max_features=6 ,class_weight={0:1,1:99})"
   ],
   "metadata": {
    "collapsed": false,
    "ExecuteTime": {
     "end_time": "2023-10-13T15:05:16.327283400Z",
     "start_time": "2023-10-13T15:05:16.319290600Z"
    }
   }
  },
  {
   "cell_type": "code",
   "execution_count": 98,
   "outputs": [
    {
     "data": {
      "text/plain": "RandomForestClassifier(class_weight={0: 1, 1: 99}, max_depth=15, max_features=6,\n                       min_samples_leaf=37, n_estimators=380, random_state=42)",
      "text/html": "<style>#sk-container-id-6 {color: black;background-color: white;}#sk-container-id-6 pre{padding: 0;}#sk-container-id-6 div.sk-toggleable {background-color: white;}#sk-container-id-6 label.sk-toggleable__label {cursor: pointer;display: block;width: 100%;margin-bottom: 0;padding: 0.3em;box-sizing: border-box;text-align: center;}#sk-container-id-6 label.sk-toggleable__label-arrow:before {content: \"▸\";float: left;margin-right: 0.25em;color: #696969;}#sk-container-id-6 label.sk-toggleable__label-arrow:hover:before {color: black;}#sk-container-id-6 div.sk-estimator:hover label.sk-toggleable__label-arrow:before {color: black;}#sk-container-id-6 div.sk-toggleable__content {max-height: 0;max-width: 0;overflow: hidden;text-align: left;background-color: #f0f8ff;}#sk-container-id-6 div.sk-toggleable__content pre {margin: 0.2em;color: black;border-radius: 0.25em;background-color: #f0f8ff;}#sk-container-id-6 input.sk-toggleable__control:checked~div.sk-toggleable__content {max-height: 200px;max-width: 100%;overflow: auto;}#sk-container-id-6 input.sk-toggleable__control:checked~label.sk-toggleable__label-arrow:before {content: \"▾\";}#sk-container-id-6 div.sk-estimator input.sk-toggleable__control:checked~label.sk-toggleable__label {background-color: #d4ebff;}#sk-container-id-6 div.sk-label input.sk-toggleable__control:checked~label.sk-toggleable__label {background-color: #d4ebff;}#sk-container-id-6 input.sk-hidden--visually {border: 0;clip: rect(1px 1px 1px 1px);clip: rect(1px, 1px, 1px, 1px);height: 1px;margin: -1px;overflow: hidden;padding: 0;position: absolute;width: 1px;}#sk-container-id-6 div.sk-estimator {font-family: monospace;background-color: #f0f8ff;border: 1px dotted black;border-radius: 0.25em;box-sizing: border-box;margin-bottom: 0.5em;}#sk-container-id-6 div.sk-estimator:hover {background-color: #d4ebff;}#sk-container-id-6 div.sk-parallel-item::after {content: \"\";width: 100%;border-bottom: 1px solid gray;flex-grow: 1;}#sk-container-id-6 div.sk-label:hover label.sk-toggleable__label {background-color: #d4ebff;}#sk-container-id-6 div.sk-serial::before {content: \"\";position: absolute;border-left: 1px solid gray;box-sizing: border-box;top: 0;bottom: 0;left: 50%;z-index: 0;}#sk-container-id-6 div.sk-serial {display: flex;flex-direction: column;align-items: center;background-color: white;padding-right: 0.2em;padding-left: 0.2em;position: relative;}#sk-container-id-6 div.sk-item {position: relative;z-index: 1;}#sk-container-id-6 div.sk-parallel {display: flex;align-items: stretch;justify-content: center;background-color: white;position: relative;}#sk-container-id-6 div.sk-item::before, #sk-container-id-6 div.sk-parallel-item::before {content: \"\";position: absolute;border-left: 1px solid gray;box-sizing: border-box;top: 0;bottom: 0;left: 50%;z-index: -1;}#sk-container-id-6 div.sk-parallel-item {display: flex;flex-direction: column;z-index: 1;position: relative;background-color: white;}#sk-container-id-6 div.sk-parallel-item:first-child::after {align-self: flex-end;width: 50%;}#sk-container-id-6 div.sk-parallel-item:last-child::after {align-self: flex-start;width: 50%;}#sk-container-id-6 div.sk-parallel-item:only-child::after {width: 0;}#sk-container-id-6 div.sk-dashed-wrapped {border: 1px dashed gray;margin: 0 0.4em 0.5em 0.4em;box-sizing: border-box;padding-bottom: 0.4em;background-color: white;}#sk-container-id-6 div.sk-label label {font-family: monospace;font-weight: bold;display: inline-block;line-height: 1.2em;}#sk-container-id-6 div.sk-label-container {text-align: center;}#sk-container-id-6 div.sk-container {/* jupyter's `normalize.less` sets `[hidden] { display: none; }` but bootstrap.min.css set `[hidden] { display: none !important; }` so we also need the `!important` here to be able to override the default hidden behavior on the sphinx rendered scikit-learn.org. See: https://github.com/scikit-learn/scikit-learn/issues/21755 */display: inline-block !important;position: relative;}#sk-container-id-6 div.sk-text-repr-fallback {display: none;}</style><div id=\"sk-container-id-6\" class=\"sk-top-container\"><div class=\"sk-text-repr-fallback\"><pre>RandomForestClassifier(class_weight={0: 1, 1: 99}, max_depth=15, max_features=6,\n                       min_samples_leaf=37, n_estimators=380, random_state=42)</pre><b>In a Jupyter environment, please rerun this cell to show the HTML representation or trust the notebook. <br />On GitHub, the HTML representation is unable to render, please try loading this page with nbviewer.org.</b></div><div class=\"sk-container\" hidden><div class=\"sk-item\"><div class=\"sk-estimator sk-toggleable\"><input class=\"sk-toggleable__control sk-hidden--visually\" id=\"sk-estimator-id-6\" type=\"checkbox\" checked><label for=\"sk-estimator-id-6\" class=\"sk-toggleable__label sk-toggleable__label-arrow\">RandomForestClassifier</label><div class=\"sk-toggleable__content\"><pre>RandomForestClassifier(class_weight={0: 1, 1: 99}, max_depth=15, max_features=6,\n                       min_samples_leaf=37, n_estimators=380, random_state=42)</pre></div></div></div></div></div>"
     },
     "execution_count": 98,
     "metadata": {},
     "output_type": "execute_result"
    }
   ],
   "source": [
    "model.fit(x_train, y_train)"
   ],
   "metadata": {
    "collapsed": false,
    "ExecuteTime": {
     "end_time": "2023-10-13T15:05:20.265550700Z",
     "start_time": "2023-10-13T15:05:16.558596300Z"
    }
   }
  },
  {
   "cell_type": "code",
   "execution_count": 99,
   "outputs": [],
   "source": [
    "Cat_y_pred=model.predict(X_test)"
   ],
   "metadata": {
    "collapsed": false,
    "ExecuteTime": {
     "end_time": "2023-10-13T15:05:20.809229500Z",
     "start_time": "2023-10-13T15:05:20.270537800Z"
    }
   }
  },
  {
   "cell_type": "code",
   "execution_count": 100,
   "outputs": [],
   "source": [
    "OUTPUT_sample=pd.DataFrame({\"Class\":Cat_y_pred})\n",
    "OUTPUT_sample=OUTPUT_sample.rename_axis(\"ID\")\n",
    "OUTPUT_sample\n",
    "OUTPUT_sample.to_csv(\"sampleSubmission_Model_3.csv\")"
   ],
   "metadata": {
    "collapsed": false,
    "ExecuteTime": {
     "end_time": "2023-10-13T15:05:20.845268Z",
     "start_time": "2023-10-13T15:05:20.813224700Z"
    }
   }
  },
  {
   "cell_type": "code",
   "execution_count": null,
   "outputs": [],
   "source": [],
   "metadata": {
    "collapsed": false
   }
  }
 ],
 "metadata": {
  "kernelspec": {
   "display_name": "Python 3",
   "language": "python",
   "name": "python3"
  },
  "language_info": {
   "codemirror_mode": {
    "name": "ipython",
    "version": 2
   },
   "file_extension": ".py",
   "mimetype": "text/x-python",
   "name": "python",
   "nbconvert_exporter": "python",
   "pygments_lexer": "ipython2",
   "version": "2.7.6"
  }
 },
 "nbformat": 4,
 "nbformat_minor": 0
}
