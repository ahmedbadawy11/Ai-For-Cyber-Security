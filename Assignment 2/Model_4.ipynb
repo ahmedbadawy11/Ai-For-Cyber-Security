{
 "cells": [
  {
   "cell_type": "code",
   "execution_count": 2,
   "metadata": {
    "collapsed": true,
    "ExecuteTime": {
     "end_time": "2023-10-13T12:00:23.727172400Z",
     "start_time": "2023-10-13T12:00:22.553704200Z"
    }
   },
   "outputs": [],
   "source": [
    "import pandas as pd\n",
    "import category_encoders as ce\n",
    "from sklearn import preprocessing\n",
    "from  sklearn.ensemble import RandomForestClassifier\n",
    "import xgboost as xgb\n",
    "from catboost import CatBoostClassifier\n",
    "from sklearn.model_selection import train_test_split\n",
    "from sklearn.metrics import confusion_matrix\n",
    "\n",
    "import matplotlib.pyplot as plt\n",
    "from sklearn.feature_selection import f_classif\n",
    "\n",
    "from sklearn.feature_selection import SelectKBest, mutual_info_classif\n",
    "import warnings\n",
    "warnings.simplefilter(action='ignore', category=FutureWarning)\n",
    "import seaborn as sns"
   ]
  },
  {
   "cell_type": "code",
   "execution_count": 3,
   "outputs": [],
   "source": [
    "Train_data =pd.read_csv(\"Data/traindata.csv\")\n",
    "X_test=pd.read_csv(\"Data/testdata.csv\")"
   ],
   "metadata": {
    "collapsed": false,
    "ExecuteTime": {
     "end_time": "2023-10-13T12:00:28.268580600Z",
     "start_time": "2023-10-13T12:00:28.073622100Z"
    }
   }
  },
  {
   "cell_type": "code",
   "execution_count": 4,
   "outputs": [
    {
     "data": {
      "text/plain": "   ID  duration protocol_type service flag  src_bytes  dst_bytes  land  \\\n0   0         0           tcp    http   SF        295       2584     0   \n1   1         0           tcp    http   SF        312        839     0   \n2   2         0           tcp     ftp   SF       1225       2451     0   \n3   3         0           tcp    http   SF        293        296     0   \n4   4         0           tcp     X11  REJ          0          0     0   \n\n   wrong_fragment  urgent  ...  dst_host_same_srv_rate  \\\n0               0       0  ...                    1.00   \n1               0       0  ...                    1.00   \n2               0       0  ...                    0.45   \n3               0       0  ...                    1.00   \n4               0       0  ...                    0.01   \n\n   dst_host_diff_srv_rate  dst_host_same_src_port_rate  \\\n0                    0.00                         0.01   \n1                    0.00                         0.00   \n2                    0.02                         0.00   \n3                    0.00                         0.00   \n4                    0.03                         0.01   \n\n   dst_host_srv_diff_host_rate  dst_host_serror_rate  \\\n0                         0.03                   0.0   \n1                         0.02                   0.0   \n2                         0.00                   0.0   \n3                         0.02                   0.0   \n4                         0.00                   0.0   \n\n   dst_host_srv_serror_rate  dst_host_rerror_rate  dst_host_srv_rerror_rate  \\\n0                       0.0                  0.00                      0.01   \n1                       0.0                  0.01                      0.01   \n2                       0.0                  0.00                      0.00   \n3                       0.0                  0.00                      0.02   \n4                       0.0                  0.01                      1.00   \n\n   level  Class  \n0     21      0  \n1     21      0  \n2     11      1  \n3     21      0  \n4     11      0  \n\n[5 rows x 44 columns]",
      "text/html": "<div>\n<style scoped>\n    .dataframe tbody tr th:only-of-type {\n        vertical-align: middle;\n    }\n\n    .dataframe tbody tr th {\n        vertical-align: top;\n    }\n\n    .dataframe thead th {\n        text-align: right;\n    }\n</style>\n<table border=\"1\" class=\"dataframe\">\n  <thead>\n    <tr style=\"text-align: right;\">\n      <th></th>\n      <th>ID</th>\n      <th>duration</th>\n      <th>protocol_type</th>\n      <th>service</th>\n      <th>flag</th>\n      <th>src_bytes</th>\n      <th>dst_bytes</th>\n      <th>land</th>\n      <th>wrong_fragment</th>\n      <th>urgent</th>\n      <th>...</th>\n      <th>dst_host_same_srv_rate</th>\n      <th>dst_host_diff_srv_rate</th>\n      <th>dst_host_same_src_port_rate</th>\n      <th>dst_host_srv_diff_host_rate</th>\n      <th>dst_host_serror_rate</th>\n      <th>dst_host_srv_serror_rate</th>\n      <th>dst_host_rerror_rate</th>\n      <th>dst_host_srv_rerror_rate</th>\n      <th>level</th>\n      <th>Class</th>\n    </tr>\n  </thead>\n  <tbody>\n    <tr>\n      <th>0</th>\n      <td>0</td>\n      <td>0</td>\n      <td>tcp</td>\n      <td>http</td>\n      <td>SF</td>\n      <td>295</td>\n      <td>2584</td>\n      <td>0</td>\n      <td>0</td>\n      <td>0</td>\n      <td>...</td>\n      <td>1.00</td>\n      <td>0.00</td>\n      <td>0.01</td>\n      <td>0.03</td>\n      <td>0.0</td>\n      <td>0.0</td>\n      <td>0.00</td>\n      <td>0.01</td>\n      <td>21</td>\n      <td>0</td>\n    </tr>\n    <tr>\n      <th>1</th>\n      <td>1</td>\n      <td>0</td>\n      <td>tcp</td>\n      <td>http</td>\n      <td>SF</td>\n      <td>312</td>\n      <td>839</td>\n      <td>0</td>\n      <td>0</td>\n      <td>0</td>\n      <td>...</td>\n      <td>1.00</td>\n      <td>0.00</td>\n      <td>0.00</td>\n      <td>0.02</td>\n      <td>0.0</td>\n      <td>0.0</td>\n      <td>0.01</td>\n      <td>0.01</td>\n      <td>21</td>\n      <td>0</td>\n    </tr>\n    <tr>\n      <th>2</th>\n      <td>2</td>\n      <td>0</td>\n      <td>tcp</td>\n      <td>ftp</td>\n      <td>SF</td>\n      <td>1225</td>\n      <td>2451</td>\n      <td>0</td>\n      <td>0</td>\n      <td>0</td>\n      <td>...</td>\n      <td>0.45</td>\n      <td>0.02</td>\n      <td>0.00</td>\n      <td>0.00</td>\n      <td>0.0</td>\n      <td>0.0</td>\n      <td>0.00</td>\n      <td>0.00</td>\n      <td>11</td>\n      <td>1</td>\n    </tr>\n    <tr>\n      <th>3</th>\n      <td>3</td>\n      <td>0</td>\n      <td>tcp</td>\n      <td>http</td>\n      <td>SF</td>\n      <td>293</td>\n      <td>296</td>\n      <td>0</td>\n      <td>0</td>\n      <td>0</td>\n      <td>...</td>\n      <td>1.00</td>\n      <td>0.00</td>\n      <td>0.00</td>\n      <td>0.02</td>\n      <td>0.0</td>\n      <td>0.0</td>\n      <td>0.00</td>\n      <td>0.02</td>\n      <td>21</td>\n      <td>0</td>\n    </tr>\n    <tr>\n      <th>4</th>\n      <td>4</td>\n      <td>0</td>\n      <td>tcp</td>\n      <td>X11</td>\n      <td>REJ</td>\n      <td>0</td>\n      <td>0</td>\n      <td>0</td>\n      <td>0</td>\n      <td>0</td>\n      <td>...</td>\n      <td>0.01</td>\n      <td>0.03</td>\n      <td>0.01</td>\n      <td>0.00</td>\n      <td>0.0</td>\n      <td>0.0</td>\n      <td>0.01</td>\n      <td>1.00</td>\n      <td>11</td>\n      <td>0</td>\n    </tr>\n  </tbody>\n</table>\n<p>5 rows × 44 columns</p>\n</div>"
     },
     "execution_count": 4,
     "metadata": {},
     "output_type": "execute_result"
    }
   ],
   "source": [
    "Train_data.head(5)"
   ],
   "metadata": {
    "collapsed": false,
    "ExecuteTime": {
     "end_time": "2023-10-13T12:00:29.049497200Z",
     "start_time": "2023-10-13T12:00:29.016585300Z"
    }
   }
  },
  {
   "cell_type": "code",
   "execution_count": 5,
   "outputs": [
    {
     "data": {
      "text/plain": "(23002, 44)"
     },
     "execution_count": 5,
     "metadata": {},
     "output_type": "execute_result"
    }
   ],
   "source": [
    "Train_data.shape"
   ],
   "metadata": {
    "collapsed": false,
    "ExecuteTime": {
     "end_time": "2023-10-13T12:00:29.758567200Z",
     "start_time": "2023-10-13T12:00:29.725655600Z"
    }
   }
  },
  {
   "cell_type": "code",
   "execution_count": 6,
   "outputs": [
    {
     "name": "stdout",
     "output_type": "stream",
     "text": [
      "<class 'pandas.core.frame.DataFrame'>\n",
      "RangeIndex: 23002 entries, 0 to 23001\n",
      "Data columns (total 44 columns):\n",
      " #   Column                       Non-Null Count  Dtype  \n",
      "---  ------                       --------------  -----  \n",
      " 0   ID                           23002 non-null  int64  \n",
      " 1   duration                     23002 non-null  int64  \n",
      " 2   protocol_type                23002 non-null  object \n",
      " 3   service                      23002 non-null  object \n",
      " 4   flag                         23002 non-null  object \n",
      " 5   src_bytes                    23002 non-null  int64  \n",
      " 6   dst_bytes                    23002 non-null  int64  \n",
      " 7   land                         23002 non-null  int64  \n",
      " 8   wrong_fragment               23002 non-null  int64  \n",
      " 9   urgent                       23002 non-null  int64  \n",
      " 10  hot                          23002 non-null  int64  \n",
      " 11  num_failed_logins            23002 non-null  int64  \n",
      " 12  logged_in                    23002 non-null  int64  \n",
      " 13  num_compromised              23002 non-null  int64  \n",
      " 14  root_shell                   23002 non-null  int64  \n",
      " 15  su_attempted                 23002 non-null  int64  \n",
      " 16  num_root                     23002 non-null  int64  \n",
      " 17  num_file_creations           23002 non-null  int64  \n",
      " 18  num_shells                   23002 non-null  int64  \n",
      " 19  num_access_files             23002 non-null  int64  \n",
      " 20  num_outbound_cmds            23002 non-null  int64  \n",
      " 21  is_host_login                23002 non-null  int64  \n",
      " 22  is_guest_login               23002 non-null  int64  \n",
      " 23  count                        23002 non-null  int64  \n",
      " 24  srv_count                    23002 non-null  int64  \n",
      " 25  serror_rate                  23002 non-null  float64\n",
      " 26  srv_serror_rate              23002 non-null  float64\n",
      " 27  rerror_rate                  23002 non-null  float64\n",
      " 28  srv_rerror_rate              23002 non-null  float64\n",
      " 29  same_srv_rate                23002 non-null  float64\n",
      " 30  diff_srv_rate                23002 non-null  float64\n",
      " 31  srv_diff_host_rate           23002 non-null  float64\n",
      " 32  dst_host_count               23002 non-null  int64  \n",
      " 33  dst_host_srv_count           23002 non-null  int64  \n",
      " 34  dst_host_same_srv_rate       23002 non-null  float64\n",
      " 35  dst_host_diff_srv_rate       23002 non-null  float64\n",
      " 36  dst_host_same_src_port_rate  23002 non-null  float64\n",
      " 37  dst_host_srv_diff_host_rate  23002 non-null  float64\n",
      " 38  dst_host_serror_rate         23002 non-null  float64\n",
      " 39  dst_host_srv_serror_rate     23002 non-null  float64\n",
      " 40  dst_host_rerror_rate         23002 non-null  float64\n",
      " 41  dst_host_srv_rerror_rate     23002 non-null  float64\n",
      " 42  level                        23002 non-null  int64  \n",
      " 43  Class                        23002 non-null  int64  \n",
      "dtypes: float64(15), int64(26), object(3)\n",
      "memory usage: 7.7+ MB\n"
     ]
    }
   ],
   "source": [
    "Train_data.info()"
   ],
   "metadata": {
    "collapsed": false,
    "ExecuteTime": {
     "end_time": "2023-10-13T12:00:30.559479800Z",
     "start_time": "2023-10-13T12:00:30.522579300Z"
    }
   }
  },
  {
   "cell_type": "code",
   "execution_count": 7,
   "outputs": [
    {
     "data": {
      "text/plain": "0"
     },
     "execution_count": 7,
     "metadata": {},
     "output_type": "execute_result"
    }
   ],
   "source": [
    "Train_data.duplicated().sum()"
   ],
   "metadata": {
    "collapsed": false,
    "ExecuteTime": {
     "end_time": "2023-10-13T12:00:31.011859100Z",
     "start_time": "2023-10-13T12:00:30.974931Z"
    }
   }
  },
  {
   "cell_type": "code",
   "execution_count": 8,
   "outputs": [
    {
     "data": {
      "text/plain": "Class\n0    12001\n1    11001\nName: count, dtype: int64"
     },
     "execution_count": 8,
     "metadata": {},
     "output_type": "execute_result"
    }
   ],
   "source": [
    "Train_data[\"Class\"].value_counts()"
   ],
   "metadata": {
    "collapsed": false,
    "ExecuteTime": {
     "end_time": "2023-10-13T12:00:31.328740200Z",
     "start_time": "2023-10-13T12:00:31.292838500Z"
    }
   }
  },
  {
   "cell_type": "markdown",
   "source": [
    "# Test Data"
   ],
   "metadata": {
    "collapsed": false
   }
  },
  {
   "cell_type": "code",
   "execution_count": 9,
   "outputs": [
    {
     "data": {
      "text/plain": "(22501, 43)"
     },
     "execution_count": 9,
     "metadata": {},
     "output_type": "execute_result"
    }
   ],
   "source": [
    "X_test.shape"
   ],
   "metadata": {
    "collapsed": false,
    "ExecuteTime": {
     "end_time": "2023-10-13T12:00:31.909807500Z",
     "start_time": "2023-10-13T12:00:31.888834800Z"
    }
   }
  },
  {
   "cell_type": "code",
   "execution_count": 10,
   "outputs": [
    {
     "data": {
      "text/plain": "   ID  duration protocol_type  service flag  src_bytes  dst_bytes  land  \\\n0   0         4           tcp    pop_3   SF         30         93     0   \n1   1         0           tcp  private   S0          0          0     0   \n2   2         0           udp  private   SF         52         54     0   \n3   3         0           tcp     http   SF        367        588     0   \n4   4         0          icmp    ecr_i   SF       1008          0     0   \n\n   wrong_fragment  urgent  ...  dst_host_srv_count  dst_host_same_srv_rate  \\\n0               0       0  ...                 232                    0.91   \n1               0       0  ...                   5                    0.02   \n2               0       0  ...                 255                    1.00   \n3               0       0  ...                 255                    1.00   \n4               0       0  ...                 255                    1.00   \n\n   dst_host_diff_srv_rate  dst_host_same_src_port_rate  \\\n0                    0.04                         0.00   \n1                    0.08                         0.00   \n2                    0.00                         1.00   \n3                    0.00                         0.12   \n4                    0.00                         1.00   \n\n   dst_host_srv_diff_host_rate  dst_host_serror_rate  \\\n0                         0.00                   0.0   \n1                         0.00                   1.0   \n2                         0.00                   0.0   \n3                         0.06                   0.0   \n4                         0.00                   0.0   \n\n   dst_host_srv_serror_rate  dst_host_rerror_rate  dst_host_srv_rerror_rate  \\\n0                       0.0                   0.0                       0.0   \n1                       1.0                   0.0                       0.0   \n2                       0.0                   0.0                       0.0   \n3                       0.0                   0.0                       0.0   \n4                       0.0                   0.0                       0.0   \n\n   level  \n0     16  \n1     21  \n2     17  \n3     21  \n4     18  \n\n[5 rows x 43 columns]",
      "text/html": "<div>\n<style scoped>\n    .dataframe tbody tr th:only-of-type {\n        vertical-align: middle;\n    }\n\n    .dataframe tbody tr th {\n        vertical-align: top;\n    }\n\n    .dataframe thead th {\n        text-align: right;\n    }\n</style>\n<table border=\"1\" class=\"dataframe\">\n  <thead>\n    <tr style=\"text-align: right;\">\n      <th></th>\n      <th>ID</th>\n      <th>duration</th>\n      <th>protocol_type</th>\n      <th>service</th>\n      <th>flag</th>\n      <th>src_bytes</th>\n      <th>dst_bytes</th>\n      <th>land</th>\n      <th>wrong_fragment</th>\n      <th>urgent</th>\n      <th>...</th>\n      <th>dst_host_srv_count</th>\n      <th>dst_host_same_srv_rate</th>\n      <th>dst_host_diff_srv_rate</th>\n      <th>dst_host_same_src_port_rate</th>\n      <th>dst_host_srv_diff_host_rate</th>\n      <th>dst_host_serror_rate</th>\n      <th>dst_host_srv_serror_rate</th>\n      <th>dst_host_rerror_rate</th>\n      <th>dst_host_srv_rerror_rate</th>\n      <th>level</th>\n    </tr>\n  </thead>\n  <tbody>\n    <tr>\n      <th>0</th>\n      <td>0</td>\n      <td>4</td>\n      <td>tcp</td>\n      <td>pop_3</td>\n      <td>SF</td>\n      <td>30</td>\n      <td>93</td>\n      <td>0</td>\n      <td>0</td>\n      <td>0</td>\n      <td>...</td>\n      <td>232</td>\n      <td>0.91</td>\n      <td>0.04</td>\n      <td>0.00</td>\n      <td>0.00</td>\n      <td>0.0</td>\n      <td>0.0</td>\n      <td>0.0</td>\n      <td>0.0</td>\n      <td>16</td>\n    </tr>\n    <tr>\n      <th>1</th>\n      <td>1</td>\n      <td>0</td>\n      <td>tcp</td>\n      <td>private</td>\n      <td>S0</td>\n      <td>0</td>\n      <td>0</td>\n      <td>0</td>\n      <td>0</td>\n      <td>0</td>\n      <td>...</td>\n      <td>5</td>\n      <td>0.02</td>\n      <td>0.08</td>\n      <td>0.00</td>\n      <td>0.00</td>\n      <td>1.0</td>\n      <td>1.0</td>\n      <td>0.0</td>\n      <td>0.0</td>\n      <td>21</td>\n    </tr>\n    <tr>\n      <th>2</th>\n      <td>2</td>\n      <td>0</td>\n      <td>udp</td>\n      <td>private</td>\n      <td>SF</td>\n      <td>52</td>\n      <td>54</td>\n      <td>0</td>\n      <td>0</td>\n      <td>0</td>\n      <td>...</td>\n      <td>255</td>\n      <td>1.00</td>\n      <td>0.00</td>\n      <td>1.00</td>\n      <td>0.00</td>\n      <td>0.0</td>\n      <td>0.0</td>\n      <td>0.0</td>\n      <td>0.0</td>\n      <td>17</td>\n    </tr>\n    <tr>\n      <th>3</th>\n      <td>3</td>\n      <td>0</td>\n      <td>tcp</td>\n      <td>http</td>\n      <td>SF</td>\n      <td>367</td>\n      <td>588</td>\n      <td>0</td>\n      <td>0</td>\n      <td>0</td>\n      <td>...</td>\n      <td>255</td>\n      <td>1.00</td>\n      <td>0.00</td>\n      <td>0.12</td>\n      <td>0.06</td>\n      <td>0.0</td>\n      <td>0.0</td>\n      <td>0.0</td>\n      <td>0.0</td>\n      <td>21</td>\n    </tr>\n    <tr>\n      <th>4</th>\n      <td>4</td>\n      <td>0</td>\n      <td>icmp</td>\n      <td>ecr_i</td>\n      <td>SF</td>\n      <td>1008</td>\n      <td>0</td>\n      <td>0</td>\n      <td>0</td>\n      <td>0</td>\n      <td>...</td>\n      <td>255</td>\n      <td>1.00</td>\n      <td>0.00</td>\n      <td>1.00</td>\n      <td>0.00</td>\n      <td>0.0</td>\n      <td>0.0</td>\n      <td>0.0</td>\n      <td>0.0</td>\n      <td>18</td>\n    </tr>\n  </tbody>\n</table>\n<p>5 rows × 43 columns</p>\n</div>"
     },
     "execution_count": 10,
     "metadata": {},
     "output_type": "execute_result"
    }
   ],
   "source": [
    "X_test.head(5)"
   ],
   "metadata": {
    "collapsed": false,
    "ExecuteTime": {
     "end_time": "2023-10-13T12:00:32.218547300Z",
     "start_time": "2023-10-13T12:00:32.203575500Z"
    }
   }
  },
  {
   "cell_type": "markdown",
   "source": [
    "# Label Encoding"
   ],
   "metadata": {
    "collapsed": false
   }
  },
  {
   "cell_type": "code",
   "execution_count": 11,
   "outputs": [],
   "source": [
    "encoder_protocol_type = preprocessing.LabelEncoder()\n",
    "\n",
    "Train_data['protocol_type']= encoder_protocol_type.fit_transform(Train_data['protocol_type'])\n",
    "X_test['protocol_type']= encoder_protocol_type.transform(X_test['protocol_type'])"
   ],
   "metadata": {
    "collapsed": false,
    "ExecuteTime": {
     "end_time": "2023-10-13T12:00:33.769986700Z",
     "start_time": "2023-10-13T12:00:33.750040700Z"
    }
   }
  },
  {
   "cell_type": "code",
   "execution_count": 12,
   "outputs": [],
   "source": [
    "X_test.drop(columns=['service'],inplace=True)\n",
    "Train_data.drop(columns=['service'],inplace=True)"
   ],
   "metadata": {
    "collapsed": false,
    "ExecuteTime": {
     "end_time": "2023-10-13T12:00:37.422954400Z",
     "start_time": "2023-10-13T12:00:37.386026200Z"
    }
   }
  },
  {
   "cell_type": "code",
   "execution_count": 14,
   "outputs": [],
   "source": [
    "encoder_flag = preprocessing.LabelEncoder()\n",
    "# Encode labels in column 'species'.\n",
    "Train_data['flag']= encoder_flag.fit_transform(Train_data['flag'])\n",
    "X_test['flag']= encoder_flag.transform(X_test['flag'])"
   ],
   "metadata": {
    "collapsed": false,
    "ExecuteTime": {
     "end_time": "2023-10-13T12:00:51.183668700Z",
     "start_time": "2023-10-13T12:00:51.090890900Z"
    }
   }
  },
  {
   "cell_type": "code",
   "execution_count": 15,
   "outputs": [],
   "source": [
    "y=Train_data[\"Class\"]\n",
    "x=Train_data.iloc[:, :-1]"
   ],
   "metadata": {
    "collapsed": false,
    "ExecuteTime": {
     "end_time": "2023-10-13T12:00:51.972911300Z",
     "start_time": "2023-10-13T12:00:51.945985200Z"
    }
   }
  },
  {
   "cell_type": "code",
   "execution_count": 16,
   "outputs": [],
   "source": [
    "X_train, X_val, y_train, y_val = train_test_split(x, y, test_size=0.2, random_state=42)"
   ],
   "metadata": {
    "collapsed": false,
    "ExecuteTime": {
     "end_time": "2023-10-13T12:00:53.427567700Z",
     "start_time": "2023-10-13T12:00:53.398567200Z"
    }
   }
  },
  {
   "cell_type": "code",
   "execution_count": 17,
   "outputs": [
    {
     "data": {
      "text/plain": "(18401, 42)"
     },
     "execution_count": 17,
     "metadata": {},
     "output_type": "execute_result"
    }
   ],
   "source": [
    "X_train.shape"
   ],
   "metadata": {
    "collapsed": false,
    "ExecuteTime": {
     "end_time": "2023-10-13T12:00:56.811001Z",
     "start_time": "2023-10-13T12:00:56.767118600Z"
    }
   }
  },
  {
   "cell_type": "markdown",
   "source": [
    "# Filter Selection using SelectKBest with f_classif"
   ],
   "metadata": {
    "collapsed": false
   }
  },
  {
   "cell_type": "code",
   "execution_count": 18,
   "outputs": [],
   "source": [
    "def Cal_F1_scoure(y_test,y_Test_pred):\n",
    "    cm = confusion_matrix(y_test,y_Test_pred)\n",
    "    true_positive = cm[1, 1]\n",
    "    false_positive = cm[0, 1]\n",
    "    false_negative = cm[1, 0]\n",
    "    true_negative = cm[0, 0]\n",
    "\n",
    "    return (2 * true_positive / (2 * true_positive + false_positive + false_negative))"
   ],
   "metadata": {
    "collapsed": false,
    "ExecuteTime": {
     "end_time": "2023-10-13T12:00:59.046523100Z",
     "start_time": "2023-10-13T12:00:59.027554Z"
    }
   }
  },
  {
   "cell_type": "code",
   "execution_count": 19,
   "outputs": [],
   "source": [
    "def select_feature(X_train, y_train,X_validation , FSM):\n",
    "    fs = FSM\n",
    "    fs.fit(X_train, y_train)\n",
    "    X_train_new = fs.transform(X_train)\n",
    "\n",
    "    X_validation_new = fs.transform(X_validation)\n",
    "\n",
    "    feature_indices = fs.get_support(indices=True)\n",
    "\n",
    "\n",
    "    return X_train_new,X_validation_new,feature_indices"
   ],
   "metadata": {
    "collapsed": false,
    "ExecuteTime": {
     "end_time": "2023-10-13T12:01:00.181524100Z",
     "start_time": "2023-10-13T12:01:00.162575200Z"
    }
   }
  },
  {
   "cell_type": "code",
   "execution_count": 20,
   "outputs": [],
   "source": [
    "acc_dict_DT_validation = {}\n",
    "\n",
    "feature_indices_dict={}"
   ],
   "metadata": {
    "collapsed": false,
    "ExecuteTime": {
     "end_time": "2023-10-13T12:01:01.102820900Z",
     "start_time": "2023-10-13T12:01:01.091849800Z"
    }
   }
  },
  {
   "cell_type": "code",
   "execution_count": 22,
   "outputs": [],
   "source": [
    "CB_model=CatBoostClassifier(random_seed=42 ,l2_leaf_reg=9, learning_rate=0.1, depth=10,verbose=0)"
   ],
   "metadata": {
    "collapsed": false,
    "ExecuteTime": {
     "end_time": "2023-10-13T12:02:34.979086200Z",
     "start_time": "2023-10-13T12:02:34.964134100Z"
    }
   }
  },
  {
   "cell_type": "code",
   "execution_count": 23,
   "outputs": [
    {
     "name": "stderr",
     "output_type": "stream",
     "text": [
      "C:\\Users\\DEBI\\anaconda3\\envs\\My_Env_3.9\\lib\\site-packages\\sklearn\\feature_selection\\_univariate_selection.py:112: UserWarning: Features [19 20] are constant.\n",
      "  warnings.warn(\"Features %s are constant.\" % constant_features_idx, UserWarning)\n",
      "C:\\Users\\DEBI\\anaconda3\\envs\\My_Env_3.9\\lib\\site-packages\\sklearn\\feature_selection\\_univariate_selection.py:113: RuntimeWarning: invalid value encountered in divide\n",
      "  f = msb / msw\n",
      "C:\\Users\\DEBI\\anaconda3\\envs\\My_Env_3.9\\lib\\site-packages\\sklearn\\feature_selection\\_univariate_selection.py:112: UserWarning: Features [19 20] are constant.\n",
      "  warnings.warn(\"Features %s are constant.\" % constant_features_idx, UserWarning)\n",
      "C:\\Users\\DEBI\\anaconda3\\envs\\My_Env_3.9\\lib\\site-packages\\sklearn\\feature_selection\\_univariate_selection.py:113: RuntimeWarning: invalid value encountered in divide\n",
      "  f = msb / msw\n",
      "C:\\Users\\DEBI\\anaconda3\\envs\\My_Env_3.9\\lib\\site-packages\\sklearn\\feature_selection\\_univariate_selection.py:112: UserWarning: Features [19 20] are constant.\n",
      "  warnings.warn(\"Features %s are constant.\" % constant_features_idx, UserWarning)\n",
      "C:\\Users\\DEBI\\anaconda3\\envs\\My_Env_3.9\\lib\\site-packages\\sklearn\\feature_selection\\_univariate_selection.py:113: RuntimeWarning: invalid value encountered in divide\n",
      "  f = msb / msw\n",
      "C:\\Users\\DEBI\\anaconda3\\envs\\My_Env_3.9\\lib\\site-packages\\sklearn\\feature_selection\\_univariate_selection.py:112: UserWarning: Features [19 20] are constant.\n",
      "  warnings.warn(\"Features %s are constant.\" % constant_features_idx, UserWarning)\n",
      "C:\\Users\\DEBI\\anaconda3\\envs\\My_Env_3.9\\lib\\site-packages\\sklearn\\feature_selection\\_univariate_selection.py:113: RuntimeWarning: invalid value encountered in divide\n",
      "  f = msb / msw\n",
      "C:\\Users\\DEBI\\anaconda3\\envs\\My_Env_3.9\\lib\\site-packages\\sklearn\\feature_selection\\_univariate_selection.py:112: UserWarning: Features [19 20] are constant.\n",
      "  warnings.warn(\"Features %s are constant.\" % constant_features_idx, UserWarning)\n",
      "C:\\Users\\DEBI\\anaconda3\\envs\\My_Env_3.9\\lib\\site-packages\\sklearn\\feature_selection\\_univariate_selection.py:113: RuntimeWarning: invalid value encountered in divide\n",
      "  f = msb / msw\n",
      "C:\\Users\\DEBI\\anaconda3\\envs\\My_Env_3.9\\lib\\site-packages\\sklearn\\feature_selection\\_univariate_selection.py:112: UserWarning: Features [19 20] are constant.\n",
      "  warnings.warn(\"Features %s are constant.\" % constant_features_idx, UserWarning)\n",
      "C:\\Users\\DEBI\\anaconda3\\envs\\My_Env_3.9\\lib\\site-packages\\sklearn\\feature_selection\\_univariate_selection.py:113: RuntimeWarning: invalid value encountered in divide\n",
      "  f = msb / msw\n",
      "C:\\Users\\DEBI\\anaconda3\\envs\\My_Env_3.9\\lib\\site-packages\\sklearn\\feature_selection\\_univariate_selection.py:112: UserWarning: Features [19 20] are constant.\n",
      "  warnings.warn(\"Features %s are constant.\" % constant_features_idx, UserWarning)\n",
      "C:\\Users\\DEBI\\anaconda3\\envs\\My_Env_3.9\\lib\\site-packages\\sklearn\\feature_selection\\_univariate_selection.py:113: RuntimeWarning: invalid value encountered in divide\n",
      "  f = msb / msw\n",
      "C:\\Users\\DEBI\\anaconda3\\envs\\My_Env_3.9\\lib\\site-packages\\sklearn\\feature_selection\\_univariate_selection.py:112: UserWarning: Features [19 20] are constant.\n",
      "  warnings.warn(\"Features %s are constant.\" % constant_features_idx, UserWarning)\n",
      "C:\\Users\\DEBI\\anaconda3\\envs\\My_Env_3.9\\lib\\site-packages\\sklearn\\feature_selection\\_univariate_selection.py:113: RuntimeWarning: invalid value encountered in divide\n",
      "  f = msb / msw\n",
      "C:\\Users\\DEBI\\anaconda3\\envs\\My_Env_3.9\\lib\\site-packages\\sklearn\\feature_selection\\_univariate_selection.py:112: UserWarning: Features [19 20] are constant.\n",
      "  warnings.warn(\"Features %s are constant.\" % constant_features_idx, UserWarning)\n",
      "C:\\Users\\DEBI\\anaconda3\\envs\\My_Env_3.9\\lib\\site-packages\\sklearn\\feature_selection\\_univariate_selection.py:113: RuntimeWarning: invalid value encountered in divide\n",
      "  f = msb / msw\n",
      "C:\\Users\\DEBI\\anaconda3\\envs\\My_Env_3.9\\lib\\site-packages\\sklearn\\feature_selection\\_univariate_selection.py:112: UserWarning: Features [19 20] are constant.\n",
      "  warnings.warn(\"Features %s are constant.\" % constant_features_idx, UserWarning)\n",
      "C:\\Users\\DEBI\\anaconda3\\envs\\My_Env_3.9\\lib\\site-packages\\sklearn\\feature_selection\\_univariate_selection.py:113: RuntimeWarning: invalid value encountered in divide\n",
      "  f = msb / msw\n",
      "C:\\Users\\DEBI\\anaconda3\\envs\\My_Env_3.9\\lib\\site-packages\\sklearn\\feature_selection\\_univariate_selection.py:112: UserWarning: Features [19 20] are constant.\n",
      "  warnings.warn(\"Features %s are constant.\" % constant_features_idx, UserWarning)\n",
      "C:\\Users\\DEBI\\anaconda3\\envs\\My_Env_3.9\\lib\\site-packages\\sklearn\\feature_selection\\_univariate_selection.py:113: RuntimeWarning: invalid value encountered in divide\n",
      "  f = msb / msw\n",
      "C:\\Users\\DEBI\\anaconda3\\envs\\My_Env_3.9\\lib\\site-packages\\sklearn\\feature_selection\\_univariate_selection.py:112: UserWarning: Features [19 20] are constant.\n",
      "  warnings.warn(\"Features %s are constant.\" % constant_features_idx, UserWarning)\n",
      "C:\\Users\\DEBI\\anaconda3\\envs\\My_Env_3.9\\lib\\site-packages\\sklearn\\feature_selection\\_univariate_selection.py:113: RuntimeWarning: invalid value encountered in divide\n",
      "  f = msb / msw\n",
      "C:\\Users\\DEBI\\anaconda3\\envs\\My_Env_3.9\\lib\\site-packages\\sklearn\\feature_selection\\_univariate_selection.py:112: UserWarning: Features [19 20] are constant.\n",
      "  warnings.warn(\"Features %s are constant.\" % constant_features_idx, UserWarning)\n",
      "C:\\Users\\DEBI\\anaconda3\\envs\\My_Env_3.9\\lib\\site-packages\\sklearn\\feature_selection\\_univariate_selection.py:113: RuntimeWarning: invalid value encountered in divide\n",
      "  f = msb / msw\n",
      "C:\\Users\\DEBI\\anaconda3\\envs\\My_Env_3.9\\lib\\site-packages\\sklearn\\feature_selection\\_univariate_selection.py:112: UserWarning: Features [19 20] are constant.\n",
      "  warnings.warn(\"Features %s are constant.\" % constant_features_idx, UserWarning)\n",
      "C:\\Users\\DEBI\\anaconda3\\envs\\My_Env_3.9\\lib\\site-packages\\sklearn\\feature_selection\\_univariate_selection.py:113: RuntimeWarning: invalid value encountered in divide\n",
      "  f = msb / msw\n",
      "C:\\Users\\DEBI\\anaconda3\\envs\\My_Env_3.9\\lib\\site-packages\\sklearn\\feature_selection\\_univariate_selection.py:112: UserWarning: Features [19 20] are constant.\n",
      "  warnings.warn(\"Features %s are constant.\" % constant_features_idx, UserWarning)\n",
      "C:\\Users\\DEBI\\anaconda3\\envs\\My_Env_3.9\\lib\\site-packages\\sklearn\\feature_selection\\_univariate_selection.py:113: RuntimeWarning: invalid value encountered in divide\n",
      "  f = msb / msw\n",
      "C:\\Users\\DEBI\\anaconda3\\envs\\My_Env_3.9\\lib\\site-packages\\sklearn\\feature_selection\\_univariate_selection.py:112: UserWarning: Features [19 20] are constant.\n",
      "  warnings.warn(\"Features %s are constant.\" % constant_features_idx, UserWarning)\n",
      "C:\\Users\\DEBI\\anaconda3\\envs\\My_Env_3.9\\lib\\site-packages\\sklearn\\feature_selection\\_univariate_selection.py:113: RuntimeWarning: invalid value encountered in divide\n",
      "  f = msb / msw\n",
      "C:\\Users\\DEBI\\anaconda3\\envs\\My_Env_3.9\\lib\\site-packages\\sklearn\\feature_selection\\_univariate_selection.py:112: UserWarning: Features [19 20] are constant.\n",
      "  warnings.warn(\"Features %s are constant.\" % constant_features_idx, UserWarning)\n",
      "C:\\Users\\DEBI\\anaconda3\\envs\\My_Env_3.9\\lib\\site-packages\\sklearn\\feature_selection\\_univariate_selection.py:113: RuntimeWarning: invalid value encountered in divide\n",
      "  f = msb / msw\n",
      "C:\\Users\\DEBI\\anaconda3\\envs\\My_Env_3.9\\lib\\site-packages\\sklearn\\feature_selection\\_univariate_selection.py:112: UserWarning: Features [19 20] are constant.\n",
      "  warnings.warn(\"Features %s are constant.\" % constant_features_idx, UserWarning)\n",
      "C:\\Users\\DEBI\\anaconda3\\envs\\My_Env_3.9\\lib\\site-packages\\sklearn\\feature_selection\\_univariate_selection.py:113: RuntimeWarning: invalid value encountered in divide\n",
      "  f = msb / msw\n",
      "C:\\Users\\DEBI\\anaconda3\\envs\\My_Env_3.9\\lib\\site-packages\\sklearn\\feature_selection\\_univariate_selection.py:112: UserWarning: Features [19 20] are constant.\n",
      "  warnings.warn(\"Features %s are constant.\" % constant_features_idx, UserWarning)\n",
      "C:\\Users\\DEBI\\anaconda3\\envs\\My_Env_3.9\\lib\\site-packages\\sklearn\\feature_selection\\_univariate_selection.py:113: RuntimeWarning: invalid value encountered in divide\n",
      "  f = msb / msw\n",
      "C:\\Users\\DEBI\\anaconda3\\envs\\My_Env_3.9\\lib\\site-packages\\sklearn\\feature_selection\\_univariate_selection.py:112: UserWarning: Features [19 20] are constant.\n",
      "  warnings.warn(\"Features %s are constant.\" % constant_features_idx, UserWarning)\n",
      "C:\\Users\\DEBI\\anaconda3\\envs\\My_Env_3.9\\lib\\site-packages\\sklearn\\feature_selection\\_univariate_selection.py:113: RuntimeWarning: invalid value encountered in divide\n",
      "  f = msb / msw\n",
      "C:\\Users\\DEBI\\anaconda3\\envs\\My_Env_3.9\\lib\\site-packages\\sklearn\\feature_selection\\_univariate_selection.py:112: UserWarning: Features [19 20] are constant.\n",
      "  warnings.warn(\"Features %s are constant.\" % constant_features_idx, UserWarning)\n",
      "C:\\Users\\DEBI\\anaconda3\\envs\\My_Env_3.9\\lib\\site-packages\\sklearn\\feature_selection\\_univariate_selection.py:113: RuntimeWarning: invalid value encountered in divide\n",
      "  f = msb / msw\n",
      "C:\\Users\\DEBI\\anaconda3\\envs\\My_Env_3.9\\lib\\site-packages\\sklearn\\feature_selection\\_univariate_selection.py:112: UserWarning: Features [19 20] are constant.\n",
      "  warnings.warn(\"Features %s are constant.\" % constant_features_idx, UserWarning)\n",
      "C:\\Users\\DEBI\\anaconda3\\envs\\My_Env_3.9\\lib\\site-packages\\sklearn\\feature_selection\\_univariate_selection.py:113: RuntimeWarning: invalid value encountered in divide\n",
      "  f = msb / msw\n",
      "C:\\Users\\DEBI\\anaconda3\\envs\\My_Env_3.9\\lib\\site-packages\\sklearn\\feature_selection\\_univariate_selection.py:112: UserWarning: Features [19 20] are constant.\n",
      "  warnings.warn(\"Features %s are constant.\" % constant_features_idx, UserWarning)\n",
      "C:\\Users\\DEBI\\anaconda3\\envs\\My_Env_3.9\\lib\\site-packages\\sklearn\\feature_selection\\_univariate_selection.py:113: RuntimeWarning: invalid value encountered in divide\n",
      "  f = msb / msw\n",
      "C:\\Users\\DEBI\\anaconda3\\envs\\My_Env_3.9\\lib\\site-packages\\sklearn\\feature_selection\\_univariate_selection.py:112: UserWarning: Features [19 20] are constant.\n",
      "  warnings.warn(\"Features %s are constant.\" % constant_features_idx, UserWarning)\n",
      "C:\\Users\\DEBI\\anaconda3\\envs\\My_Env_3.9\\lib\\site-packages\\sklearn\\feature_selection\\_univariate_selection.py:113: RuntimeWarning: invalid value encountered in divide\n",
      "  f = msb / msw\n",
      "C:\\Users\\DEBI\\anaconda3\\envs\\My_Env_3.9\\lib\\site-packages\\sklearn\\feature_selection\\_univariate_selection.py:112: UserWarning: Features [19 20] are constant.\n",
      "  warnings.warn(\"Features %s are constant.\" % constant_features_idx, UserWarning)\n",
      "C:\\Users\\DEBI\\anaconda3\\envs\\My_Env_3.9\\lib\\site-packages\\sklearn\\feature_selection\\_univariate_selection.py:113: RuntimeWarning: invalid value encountered in divide\n",
      "  f = msb / msw\n",
      "C:\\Users\\DEBI\\anaconda3\\envs\\My_Env_3.9\\lib\\site-packages\\sklearn\\feature_selection\\_univariate_selection.py:112: UserWarning: Features [19 20] are constant.\n",
      "  warnings.warn(\"Features %s are constant.\" % constant_features_idx, UserWarning)\n",
      "C:\\Users\\DEBI\\anaconda3\\envs\\My_Env_3.9\\lib\\site-packages\\sklearn\\feature_selection\\_univariate_selection.py:113: RuntimeWarning: invalid value encountered in divide\n",
      "  f = msb / msw\n",
      "C:\\Users\\DEBI\\anaconda3\\envs\\My_Env_3.9\\lib\\site-packages\\sklearn\\feature_selection\\_univariate_selection.py:112: UserWarning: Features [19 20] are constant.\n",
      "  warnings.warn(\"Features %s are constant.\" % constant_features_idx, UserWarning)\n",
      "C:\\Users\\DEBI\\anaconda3\\envs\\My_Env_3.9\\lib\\site-packages\\sklearn\\feature_selection\\_univariate_selection.py:113: RuntimeWarning: invalid value encountered in divide\n",
      "  f = msb / msw\n"
     ]
    }
   ],
   "source": [
    "for k in range(1, 28):\n",
    "\n",
    "    # Filter method: Information Gain\n",
    "    fsm = SelectKBest(score_func=f_classif, k=k)\n",
    "\n",
    "    X_train_new_SBest,X_validation_new_SBest,feature_indices = select_feature(X_train, y_train, X_val, fsm)\n",
    "    feature_indices_dict[k]=feature_indices\n",
    "\n",
    "\n",
    "    # tree\n",
    "\n",
    "    CB_model.fit(X_train_new_SBest, y_train)\n",
    "    y_validation_pred_DT = CB_model.predict(X_validation_new_SBest)\n",
    "    acc_dict_DT_validation[k]=Cal_F1_scoure(y_val,y_validation_pred_DT)\n",
    "\n"
   ],
   "metadata": {
    "collapsed": false,
    "ExecuteTime": {
     "end_time": "2023-10-13T12:10:40.725731800Z",
     "start_time": "2023-10-13T12:02:35.986172200Z"
    }
   }
  },
  {
   "cell_type": "markdown",
   "source": [
    "# plot Feature Selection with f_classif Method With CatBoostClassifier"
   ],
   "metadata": {
    "collapsed": false
   }
  },
  {
   "cell_type": "code",
   "execution_count": 34,
   "outputs": [],
   "source": [
    "def Draw_plots(acc_list, Title=None):\n",
    "    fig = plt.figure()  # Create a new figure\n",
    "    plt.plot(*zip(*sorted(acc_list.items())))\n",
    "    # plt.axhline(y=baseline_accuracy, color='r', linestyle='--', label=f'Baseline Accuracy {baseline_accuracy:.3f}')\n",
    "    plt.legend()\n",
    "    # Title = \"Feature Selection with Information Gain Method\"\n",
    "    plt.title(Title, fontsize=16)\n",
    "    plt.xlabel(\"Number of Features\", fontsize=16)\n",
    "    plt.ylabel(\"Accuracy\", fontsize=16)\n",
    "    plt.show()\n",
    "    print(\"Maximum accuracy:\", max(acc_list.values()))\n",
    "    print(\"Best number of features:\", max(acc_list, key=acc_list.get))\n",
    "    plt.show()\n",
    "    return   max(acc_list, key=acc_list.get)\n",
    "    # plt.close(fig)"
   ],
   "metadata": {
    "collapsed": false,
    "ExecuteTime": {
     "end_time": "2023-10-13T12:16:18.948556600Z",
     "start_time": "2023-10-13T12:16:18.925299700Z"
    }
   }
  },
  {
   "cell_type": "code",
   "execution_count": 36,
   "outputs": [
    {
     "name": "stderr",
     "output_type": "stream",
     "text": [
      "No artists with labels found to put in legend.  Note that artists whose label start with an underscore are ignored when legend() is called with no argument.\n"
     ]
    },
    {
     "data": {
      "text/plain": "<Figure size 640x480 with 1 Axes>",
      "image/png": "[encoded data removed]"
     },
     "metadata": {},
     "output_type": "display_data"
    },
    {
     "name": "stdout",
     "output_type": "stream",
     "text": [
      "Maximum accuracy: 0.9974718455527465\n",
      "Best number of features: 26\n"
     ]
    }
   ],
   "source": [
    "Max_DT_test=Draw_plots(acc_dict_DT_validation,\"Feature Selection with f_classif Method With CatBoostClassifier\")"
   ],
   "metadata": {
    "collapsed": false,
    "ExecuteTime": {
     "end_time": "2023-10-13T12:17:21.353824800Z",
     "start_time": "2023-10-13T12:17:21.150340500Z"
    }
   }
  },
  {
   "cell_type": "markdown",
   "source": [
    "#  select the best feature from  data after get the best indices from Feature selection"
   ],
   "metadata": {
    "collapsed": false
   }
  },
  {
   "cell_type": "code",
   "execution_count": 30,
   "outputs": [],
   "source": [
    "def find_list_with_length(feature_indices_dict,desired_length,Data):\n",
    "\n",
    "    new_features = feature_indices_dict.get(desired_length, None)\n",
    "    if new_features is not None:\n",
    "        new_X_train = Data.iloc[:, new_features]\n",
    "        return new_X_train\n",
    "    else:\n",
    "        # Handle the case when the desired_length is not found in the dictionary\n",
    "        print(f\"No list with length {desired_length} found in the dictionary.\")\n",
    "        return None"
   ],
   "metadata": {
    "collapsed": false,
    "ExecuteTime": {
     "end_time": "2023-10-13T12:11:01.090575200Z",
     "start_time": "2023-10-13T12:11:01.058633200Z"
    }
   }
  },
  {
   "cell_type": "code",
   "execution_count": 31,
   "outputs": [
    {
     "data": {
      "text/plain": "       duration  protocol_type  flag  wrong_fragment  logged_in  \\\n14905         0              2     9               0          0   \n3470          0              1     6               0          1   \n16816         0              1     9               0          1   \n7660          0              1     9               0          1   \n12063         0              1     5               0          0   \n...         ...            ...   ...             ...        ...   \n5601         10              1     9               0          1   \n16861         0              1     1               0          0   \n10254         0              1     9               0          1   \n12837         0              1     2               0          0   \n21643         0              1     9               0          1   \n\n       num_access_files  is_guest_login  count  serror_rate  srv_serror_rate  \\\n14905                 0               0    112         0.00              0.0   \n3470                  0               0      2         0.50              0.5   \n16816                 0               0      1         0.00              0.0   \n7660                  0               0     24         0.00              0.0   \n12063                 0               0    111         1.00              1.0   \n...                 ...             ...    ...          ...              ...   \n5601                  0               0      1         0.00              0.0   \n16861                 0               0    510         0.13              0.0   \n10254                 0               0     10         0.00              0.0   \n12837                 0               0    162         0.00              0.0   \n21643                 0               0     11         0.00              0.0   \n\n       ...  dst_host_srv_count  dst_host_same_srv_rate  \\\n14905  ...                 223                    0.87   \n3470   ...                 255                    1.00   \n16816  ...                 203                    0.79   \n7660   ...                 255                    1.00   \n12063  ...                   6                    0.50   \n...    ...                 ...                     ...   \n5601   ...                 142                    0.56   \n16861  ...                   1                    0.00   \n10254  ...                 255                    1.00   \n12837  ...                  18                    0.07   \n21643  ...                  21                    0.08   \n\n       dst_host_diff_srv_rate  dst_host_same_src_port_rate  \\\n14905                    0.01                         0.00   \n3470                     0.00                         0.50   \n16816                    0.04                         0.01   \n7660                     0.00                         0.00   \n12063                    0.33                         0.08   \n...                       ...                          ...   \n5601                     0.03                         0.00   \n16861                    1.00                         0.00   \n10254                    0.00                         0.01   \n12837                    0.07                         0.00   \n21643                    0.06                         0.08   \n\n       dst_host_srv_diff_host_rate  dst_host_serror_rate  \\\n14905                         0.00                  0.00   \n3470                          0.02                  0.50   \n16816                         0.01                  0.00   \n7660                          0.00                  0.00   \n12063                         0.00                  1.00   \n...                            ...                   ...   \n5601                          0.00                  0.00   \n16861                         0.00                  0.10   \n10254                         0.02                  0.01   \n12837                         0.00                  0.00   \n21643                         0.00                  0.80   \n\n       dst_host_srv_serror_rate  dst_host_rerror_rate  \\\n14905                      0.00                  0.00   \n3470                       0.01                  0.00   \n16816                      0.00                  0.00   \n7660                       0.00                  0.00   \n12063                      1.00                  0.00   \n...                         ...                   ...   \n5601                       0.00                  0.00   \n16861                      0.00                  0.90   \n10254                      0.01                  0.00   \n12837                      0.00                  1.00   \n21643                      0.00                  0.01   \n\n       dst_host_srv_rerror_rate  level  \n14905                       0.0     20  \n3470                        0.0     18  \n16816                       0.0     21  \n7660                        0.0     21  \n12063                       0.0     18  \n...                         ...    ...  \n5601                        0.0     21  \n16861                       1.0     20  \n10254                       0.0     21  \n12837                       1.0     21  \n21643                       0.0     18  \n\n[4601 rows x 26 columns]",
      "text/html": "<div>\n<style scoped>\n    .dataframe tbody tr th:only-of-type {\n        vertical-align: middle;\n    }\n\n    .dataframe tbody tr th {\n        vertical-align: top;\n    }\n\n    .dataframe thead th {\n        text-align: right;\n    }\n</style>\n<table border=\"1\" class=\"dataframe\">\n  <thead>\n    <tr style=\"text-align: right;\">\n      <th></th>\n      <th>duration</th>\n      <th>protocol_type</th>\n      <th>flag</th>\n      <th>wrong_fragment</th>\n      <th>logged_in</th>\n      <th>num_access_files</th>\n      <th>is_guest_login</th>\n      <th>count</th>\n      <th>serror_rate</th>\n      <th>srv_serror_rate</th>\n      <th>...</th>\n      <th>dst_host_srv_count</th>\n      <th>dst_host_same_srv_rate</th>\n      <th>dst_host_diff_srv_rate</th>\n      <th>dst_host_same_src_port_rate</th>\n      <th>dst_host_srv_diff_host_rate</th>\n      <th>dst_host_serror_rate</th>\n      <th>dst_host_srv_serror_rate</th>\n      <th>dst_host_rerror_rate</th>\n      <th>dst_host_srv_rerror_rate</th>\n      <th>level</th>\n    </tr>\n  </thead>\n  <tbody>\n    <tr>\n      <th>14905</th>\n      <td>0</td>\n      <td>2</td>\n      <td>9</td>\n      <td>0</td>\n      <td>0</td>\n      <td>0</td>\n      <td>0</td>\n      <td>112</td>\n      <td>0.00</td>\n      <td>0.0</td>\n      <td>...</td>\n      <td>223</td>\n      <td>0.87</td>\n      <td>0.01</td>\n      <td>0.00</td>\n      <td>0.00</td>\n      <td>0.00</td>\n      <td>0.00</td>\n      <td>0.00</td>\n      <td>0.0</td>\n      <td>20</td>\n    </tr>\n    <tr>\n      <th>3470</th>\n      <td>0</td>\n      <td>1</td>\n      <td>6</td>\n      <td>0</td>\n      <td>1</td>\n      <td>0</td>\n      <td>0</td>\n      <td>2</td>\n      <td>0.50</td>\n      <td>0.5</td>\n      <td>...</td>\n      <td>255</td>\n      <td>1.00</td>\n      <td>0.00</td>\n      <td>0.50</td>\n      <td>0.02</td>\n      <td>0.50</td>\n      <td>0.01</td>\n      <td>0.00</td>\n      <td>0.0</td>\n      <td>18</td>\n    </tr>\n    <tr>\n      <th>16816</th>\n      <td>0</td>\n      <td>1</td>\n      <td>9</td>\n      <td>0</td>\n      <td>1</td>\n      <td>0</td>\n      <td>0</td>\n      <td>1</td>\n      <td>0.00</td>\n      <td>0.0</td>\n      <td>...</td>\n      <td>203</td>\n      <td>0.79</td>\n      <td>0.04</td>\n      <td>0.01</td>\n      <td>0.01</td>\n      <td>0.00</td>\n      <td>0.00</td>\n      <td>0.00</td>\n      <td>0.0</td>\n      <td>21</td>\n    </tr>\n    <tr>\n      <th>7660</th>\n      <td>0</td>\n      <td>1</td>\n      <td>9</td>\n      <td>0</td>\n      <td>1</td>\n      <td>0</td>\n      <td>0</td>\n      <td>24</td>\n      <td>0.00</td>\n      <td>0.0</td>\n      <td>...</td>\n      <td>255</td>\n      <td>1.00</td>\n      <td>0.00</td>\n      <td>0.00</td>\n      <td>0.00</td>\n      <td>0.00</td>\n      <td>0.00</td>\n      <td>0.00</td>\n      <td>0.0</td>\n      <td>21</td>\n    </tr>\n    <tr>\n      <th>12063</th>\n      <td>0</td>\n      <td>1</td>\n      <td>5</td>\n      <td>0</td>\n      <td>0</td>\n      <td>0</td>\n      <td>0</td>\n      <td>111</td>\n      <td>1.00</td>\n      <td>1.0</td>\n      <td>...</td>\n      <td>6</td>\n      <td>0.50</td>\n      <td>0.33</td>\n      <td>0.08</td>\n      <td>0.00</td>\n      <td>1.00</td>\n      <td>1.00</td>\n      <td>0.00</td>\n      <td>0.0</td>\n      <td>18</td>\n    </tr>\n    <tr>\n      <th>...</th>\n      <td>...</td>\n      <td>...</td>\n      <td>...</td>\n      <td>...</td>\n      <td>...</td>\n      <td>...</td>\n      <td>...</td>\n      <td>...</td>\n      <td>...</td>\n      <td>...</td>\n      <td>...</td>\n      <td>...</td>\n      <td>...</td>\n      <td>...</td>\n      <td>...</td>\n      <td>...</td>\n      <td>...</td>\n      <td>...</td>\n      <td>...</td>\n      <td>...</td>\n      <td>...</td>\n    </tr>\n    <tr>\n      <th>5601</th>\n      <td>10</td>\n      <td>1</td>\n      <td>9</td>\n      <td>0</td>\n      <td>1</td>\n      <td>0</td>\n      <td>0</td>\n      <td>1</td>\n      <td>0.00</td>\n      <td>0.0</td>\n      <td>...</td>\n      <td>142</td>\n      <td>0.56</td>\n      <td>0.03</td>\n      <td>0.00</td>\n      <td>0.00</td>\n      <td>0.00</td>\n      <td>0.00</td>\n      <td>0.00</td>\n      <td>0.0</td>\n      <td>21</td>\n    </tr>\n    <tr>\n      <th>16861</th>\n      <td>0</td>\n      <td>1</td>\n      <td>1</td>\n      <td>0</td>\n      <td>0</td>\n      <td>0</td>\n      <td>0</td>\n      <td>510</td>\n      <td>0.13</td>\n      <td>0.0</td>\n      <td>...</td>\n      <td>1</td>\n      <td>0.00</td>\n      <td>1.00</td>\n      <td>0.00</td>\n      <td>0.00</td>\n      <td>0.10</td>\n      <td>0.00</td>\n      <td>0.90</td>\n      <td>1.0</td>\n      <td>20</td>\n    </tr>\n    <tr>\n      <th>10254</th>\n      <td>0</td>\n      <td>1</td>\n      <td>9</td>\n      <td>0</td>\n      <td>1</td>\n      <td>0</td>\n      <td>0</td>\n      <td>10</td>\n      <td>0.00</td>\n      <td>0.0</td>\n      <td>...</td>\n      <td>255</td>\n      <td>1.00</td>\n      <td>0.00</td>\n      <td>0.01</td>\n      <td>0.02</td>\n      <td>0.01</td>\n      <td>0.01</td>\n      <td>0.00</td>\n      <td>0.0</td>\n      <td>21</td>\n    </tr>\n    <tr>\n      <th>12837</th>\n      <td>0</td>\n      <td>1</td>\n      <td>2</td>\n      <td>0</td>\n      <td>0</td>\n      <td>0</td>\n      <td>0</td>\n      <td>162</td>\n      <td>0.00</td>\n      <td>0.0</td>\n      <td>...</td>\n      <td>18</td>\n      <td>0.07</td>\n      <td>0.07</td>\n      <td>0.00</td>\n      <td>0.00</td>\n      <td>0.00</td>\n      <td>0.00</td>\n      <td>1.00</td>\n      <td>1.0</td>\n      <td>21</td>\n    </tr>\n    <tr>\n      <th>21643</th>\n      <td>0</td>\n      <td>1</td>\n      <td>9</td>\n      <td>0</td>\n      <td>1</td>\n      <td>0</td>\n      <td>0</td>\n      <td>11</td>\n      <td>0.00</td>\n      <td>0.0</td>\n      <td>...</td>\n      <td>21</td>\n      <td>0.08</td>\n      <td>0.06</td>\n      <td>0.08</td>\n      <td>0.00</td>\n      <td>0.80</td>\n      <td>0.00</td>\n      <td>0.01</td>\n      <td>0.0</td>\n      <td>18</td>\n    </tr>\n  </tbody>\n</table>\n<p>4601 rows × 26 columns</p>\n</div>"
     },
     "execution_count": 31,
     "metadata": {},
     "output_type": "execute_result"
    }
   ],
   "source": [
    "X_train_new=find_list_with_length(feature_indices_dict,Max_DT_test,X_train)\n",
    "\n",
    "X_Validation_new=find_list_with_length(feature_indices_dict,Max_DT_test,X_val)\n",
    "X_test_new=find_list_with_length(feature_indices_dict,Max_DT_test,X_test)\n",
    "\n",
    "X_Validation_new"
   ],
   "metadata": {
    "collapsed": false,
    "ExecuteTime": {
     "end_time": "2023-10-13T12:11:02.012437800Z",
     "start_time": "2023-10-13T12:11:01.976534800Z"
    }
   }
  },
  {
   "cell_type": "markdown",
   "source": [
    "# apply the CatBoostClassifier on the new  X_train_new and X_test_new"
   ],
   "metadata": {
    "collapsed": false
   }
  },
  {
   "cell_type": "code",
   "execution_count": 32,
   "outputs": [],
   "source": [
    "Cat_model = CatBoostClassifier(random_seed=42 ,l2_leaf_reg=9, learning_rate=0.1, depth=10,verbose=0)\n",
    "Cat_model.fit(X_train_new,y_train)\n",
    "Cat_val_y_pred=Cat_model.predict(X_Validation_new)\n",
    "\n",
    "Cat_y_pred=Cat_model.predict(X_test_new)"
   ],
   "metadata": {
    "collapsed": false,
    "ExecuteTime": {
     "end_time": "2023-10-13T12:11:44.786042700Z",
     "start_time": "2023-10-13T12:11:17.124619200Z"
    }
   }
  },
  {
   "cell_type": "code",
   "execution_count": 33,
   "outputs": [],
   "source": [
    "OUTPUT_sample=pd.DataFrame({\"Class\":Cat_y_pred})\n",
    "OUTPUT_sample=OUTPUT_sample.rename_axis(\"ID\")\n",
    "OUTPUT_sample\n",
    "OUTPUT_sample.to_csv(\"sampleSubmission_Model_4.csv\")"
   ],
   "metadata": {
    "collapsed": false,
    "ExecuteTime": {
     "end_time": "2023-10-13T12:11:44.839898300Z",
     "start_time": "2023-10-13T12:11:44.790033Z"
    }
   }
  },
  {
   "cell_type": "code",
   "execution_count": null,
   "outputs": [],
   "source": [],
   "metadata": {
    "collapsed": false
   }
  }
 ],
 "metadata": {
  "kernelspec": {
   "display_name": "Python 3",
   "language": "python",
   "name": "python3"
  },
  "language_info": {
   "codemirror_mode": {
    "name": "ipython",
    "version": 2
   },
   "file_extension": ".py",
   "mimetype": "text/x-python",
   "name": "python",
   "nbconvert_exporter": "python",
   "pygments_lexer": "ipython2",
   "version": "2.7.6"
  }
 },
 "nbformat": 4,
 "nbformat_minor": 0
}
